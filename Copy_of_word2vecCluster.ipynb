{
  "nbformat": 4,
  "nbformat_minor": 0,
  "metadata": {
    "colab": {
      "name": "Copy of word2vecCluster.ipynb",
      "provenance": [],
      "collapsed_sections": [
        "5oP6_1pYvEXl"
      ],
      "include_colab_link": true
    },
    "kernelspec": {
      "name": "python3",
      "display_name": "Python 3"
    }
  },
  "cells": [
    {
      "cell_type": "markdown",
      "metadata": {
        "id": "view-in-github",
        "colab_type": "text"
      },
      "source": [
        "<a href=\"https://colab.research.google.com/github/Pratikmehta1729/walkover/blob/master/Copy_of_word2vecCluster.ipynb\" target=\"_parent\"><img src=\"https://colab.research.google.com/assets/colab-badge.svg\" alt=\"Open In Colab\"/></a>"
      ]
    },
    {
      "cell_type": "markdown",
      "metadata": {
        "id": "Z1GDqahMUMKh",
        "colab_type": "text"
      },
      "source": [
        "# Training  websites"
      ]
    },
    {
      "cell_type": "markdown",
      "metadata": {
        "id": "3I5pKnj1Z6Ui",
        "colab_type": "text"
      },
      "source": [
        "# **K means clustering through google trained model**"
      ]
    },
    {
      "cell_type": "markdown",
      "metadata": {
        "id": "thggl0bm6Nvi",
        "colab_type": "text"
      },
      "source": [
        "##importing google model"
      ]
    },
    {
      "cell_type": "code",
      "metadata": {
        "id": "6tG2bfOoaFzA",
        "colab_type": "code",
        "outputId": "6f5ff88a-75bb-4338-ee94-090ad3424b0c",
        "colab": {
          "base_uri": "https://localhost:8080/",
          "height": 204
        }
      },
      "source": [
        "!wget -P /root/input/ -c \"https://s3.amazonaws.com/dl4j-distribution/GoogleNews-vectors-negative300.bin.gz\""
      ],
      "execution_count": 0,
      "outputs": [
        {
          "output_type": "stream",
          "text": [
            "--2020-04-21 13:07:24--  https://s3.amazonaws.com/dl4j-distribution/GoogleNews-vectors-negative300.bin.gz\n",
            "Resolving s3.amazonaws.com (s3.amazonaws.com)... 52.217.41.54\n",
            "Connecting to s3.amazonaws.com (s3.amazonaws.com)|52.217.41.54|:443... connected.\n",
            "HTTP request sent, awaiting response... 200 OK\n",
            "Length: 1647046227 (1.5G) [application/x-gzip]\n",
            "Saving to: ‘/root/input/GoogleNews-vectors-negative300.bin.gz’\n",
            "\n",
            "GoogleNews-vectors- 100%[===================>]   1.53G  45.7MB/s    in 36s     \n",
            "\n",
            "2020-04-21 13:08:00 (44.1 MB/s) - ‘/root/input/GoogleNews-vectors-negative300.bin.gz’ saved [1647046227/1647046227]\n",
            "\n"
          ],
          "name": "stdout"
        }
      ]
    },
    {
      "cell_type": "markdown",
      "metadata": {
        "id": "I6kqMra15APw",
        "colab_type": "text"
      },
      "source": [
        "##Embedding google model"
      ]
    },
    {
      "cell_type": "code",
      "metadata": {
        "id": "vJ9W1n1ScAWQ",
        "colab_type": "code",
        "outputId": "c0ebf0f2-99ab-4ef5-fa04-640f6b404549",
        "colab": {
          "base_uri": "https://localhost:8080/",
          "height": 88
        }
      },
      "source": [
        "from gensim.models import KeyedVectors\n",
        "EMBEDDING_FILE = '/root/input/GoogleNews-vectors-negative300.bin.gz' # from above\n",
        "modelg= KeyedVectors.load_word2vec_format(EMBEDDING_FILE, binary=True)\n",
        "print(\"loaded model\")"
      ],
      "execution_count": 0,
      "outputs": [
        {
          "output_type": "stream",
          "text": [
            "/usr/local/lib/python3.6/dist-packages/smart_open/smart_open_lib.py:253: UserWarning: This function is deprecated, use smart_open.open instead. See the migration notes for details: https://github.com/RaRe-Technologies/smart_open/blob/master/README.rst#migrating-to-the-new-open-function\n",
            "  'See the migration notes for details: %s' % _MIGRATION_NOTES_URL\n"
          ],
          "name": "stderr"
        },
        {
          "output_type": "stream",
          "text": [
            "loaded model\n"
          ],
          "name": "stdout"
        }
      ]
    },
    {
      "cell_type": "markdown",
      "metadata": {
        "id": "G75-Qa4f42PD",
        "colab_type": "text"
      },
      "source": [
        "##Importing CSV File"
      ]
    },
    {
      "cell_type": "code",
      "metadata": {
        "id": "LD-iU6GLcItL",
        "colab_type": "code",
        "colab": {}
      },
      "source": [
        "import pandas as pd\n",
        "#url = 'https://raw.githubusercontent.com/Nitss10/Walkover/master/top_10.csv'\n",
        "#url='https://raw.githubusercontent.com/Nitss10/Walkover/master/final_top_100.csv'\n",
        "url='https://raw.githubusercontent.com/Nitss10/Walkover/master/eng_final_top_100.csv'\n",
        "\n",
        "df = pd.read_csv(url)\n",
        "\n",
        "l=[]\n",
        "titles=[]\n",
        "\n",
        "x=df.text.tolist()\n",
        "y=df.title.tolist()\n",
        "#title_map would give the index for the given url\n",
        "title_map={}\n",
        "count=0\n",
        "for title in y:\n",
        "  title_map[title]=count\n",
        "  titles.append(title)\n",
        "  count+=1\n",
        "\n",
        "for item in x:\n",
        "    l.append(item.split())\n",
        "  \n",
        "# for testing new url assigning into the cluster\n",
        "# fit this in the already build k means  \n",
        "\n",
        "# df = df.head(1000)\n",
        "# new_url_text=l[2000]\n",
        "# print(new_url_text)\n",
        "# new_url_title=titles[2000]\n",
        "# new_added=sent_vectorizer(new_url_title,modelg)\n",
        "# kmeans.predict([new_added])\n",
        "\n",
        "#print(title_map[new_url_title])\n"
      ],
      "execution_count": 0,
      "outputs": []
    },
    {
      "cell_type": "markdown",
      "metadata": {
        "id": "FPEsY0eOVaU6",
        "colab_type": "text"
      },
      "source": [
        "##Vectorization of all url's"
      ]
    },
    {
      "cell_type": "code",
      "metadata": {
        "id": "jCpfVwIrcuiu",
        "colab_type": "code",
        "outputId": "2f817068-6307-419a-d1cc-85f59d040d42",
        "colab": {
          "base_uri": "https://localhost:8080/",
          "height": 51
        }
      },
      "source": [
        "# Even though using word2vec internally it is using that same process\n",
        "\n",
        "from gensim.models import Word2Vec\n",
        "  \n",
        "import nltk\n",
        "import numpy as np \n",
        "  \n",
        "from sklearn import cluster\n",
        "from sklearn import metrics\n",
        "import matplotlib.pyplot as plt\n",
        "\n",
        "sentences = l  \n",
        "\n",
        "def sent_vectorizer(sent, modelg):\n",
        "    sent_vec =[]\n",
        "    numw = 0\n",
        "    for w in sent: \n",
        "        try:\n",
        "            if numw == 0:\n",
        "                sent_vec = modelg[w]\n",
        "            else:\n",
        "                sent_vec = np.add(sent_vec, modelg[w])\n",
        "            numw+=1\n",
        "        except:\n",
        "            pass\n",
        "     \n",
        "    return np.asarray(sent_vec) / numw\n",
        "  \n",
        "  \n",
        "X=[]\n",
        "for sentence in sentences:\n",
        "    X.append(sent_vectorizer(sentence, modelg))   \n",
        "  \n",
        "\n",
        "print (\"========================\")\n",
        "print(\"Vector of each url created\")\n",
        "\n",
        "# print (model.similarity('post', 'book'))\n",
        "# print (model.most_similar(positive=['machine'], negative=[], topn=2))\n",
        " \n",
        "     \n",
        "     \n"
      ],
      "execution_count": 0,
      "outputs": [
        {
          "output_type": "stream",
          "text": [
            "========================\n",
            "Vector of each url created\n"
          ],
          "name": "stdout"
        }
      ]
    },
    {
      "cell_type": "markdown",
      "metadata": {
        "id": "0b9wo6xXSmfc",
        "colab_type": "text"
      },
      "source": [
        "##Elbow Method"
      ]
    },
    {
      "cell_type": "code",
      "metadata": {
        "id": "YCqxZ6eTSfbB",
        "colab_type": "code",
        "outputId": "0b2524aa-626a-4bf2-b10a-54a68c559299",
        "colab": {
          "base_uri": "https://localhost:8080/",
          "height": 295
        }
      },
      "source": [
        "\n",
        "\n",
        "wcss = []\n",
        "for i in range(1, 11):\n",
        "    kmeans = cluster.KMeans(n_clusters=i, init='k-means++', max_iter=300, n_init=10, random_state=0)\n",
        "    kmeans.fit(X)\n",
        "    wcss.append(kmeans.inertia_)\n",
        "plt.plot(range(1, 11), wcss)\n",
        "plt.title('Elbow Method')\n",
        "plt.xlabel('Number of clusters')\n",
        "plt.ylabel('WCSS')\n",
        "plt.show()\n",
        "\n"
      ],
      "execution_count": 0,
      "outputs": [
        {
          "output_type": "display_data",
          "data": {
            "image/png": "[encoded data removed]",
            "text/plain": [
              "<Figure size 432x288 with 1 Axes>"
            ]
          },
          "metadata": {
            "tags": [],
            "needs_background": "light"
          }
        }
      ]
    },
    {
      "cell_type": "markdown",
      "metadata": {
        "id": "gyxd5AXE5eF_",
        "colab_type": "text"
      },
      "source": [
        "##Clustring of the vectors"
      ]
    },
    {
      "cell_type": "code",
      "metadata": {
        "id": "AuaPXTswDSQO",
        "colab_type": "code",
        "outputId": "f7b81561-7ff6-4869-c8d9-0b57ea19ff04",
        "colab": {
          "base_uri": "https://localhost:8080/",
          "height": 54
        }
      },
      "source": [
        "print(titles)"
      ],
      "execution_count": 0,
      "outputs": [
        {
          "output_type": "stream",
          "text": [
            "['https://www.google.com', 'https://marketingplatform.google.com/about/enterprise/', 'https://m.facebook.com/?refsrc=https%3A%2F%2Fwww.facebook.com%2F&_rdr', 'https://marketingplatform.google.com/about/analytics/', 'https://www.youtube.com/supported_browsers?next_url=%2F', 'https://www.netflix.com/', 'https://www.bing.com:443/?toWww=1&redig=A2A74BC3DFCA4E5FBB12EBAA41DBE2BC', 'https://login.live.com/login.srf?wa=wsignin1.0&rpsnv=13&ct=1587064832&rver=7.0.6737.0&wp=MBI_SSL&wreply=https%3a%2f%2foutlook.live.com%2fowa%2f%3fRpsCsrfState%3de165149d-8faf-52ae-e514-ef2d03e46d81&id=292841&aadredir=1&CBCXT=out&lw=1&fl=dob%2cflname%2cwld&cobrandid=90015', 'https://www.microsoft.com/en-us/', 'https://www.apple.com/', 'https://login.live.com', 'https://accounts.google.com/ServiceLogin?passive=1209600&continue=https%3A%2F%2Faccounts.google.com%2F&followup=https%3A%2F%2Faccounts.google.com%2F', 'https://www.bing.com', 'https://www.skype.com/en/', 'https://play.google.com/store', 'https://www.digicert.com/', 'https://connect.facebook.net', 'https://www.msn.com/', 'https://dotnet.microsoft.com/', 'https://products.office.com/en-us/home?ms.url=office365com&rtc=1', 'https://teams.microsoft.com', 'https://www.yahoo.com/', 'https://www.apple.com/itunes/', 'https://firebase.google.com/products/crashlytics?utm_source=crashlytics_marketing&utm_medium=redirect&utm_campaign=crashlytics_redirect', 'https://accounts.google.com/ServiceLogin?service=mail&passive=true&rm=false&continue=https://mail.google.com/mail/&ss=1&scc=1&ltmpl=default&ltmplcache=2&emr=1&osid=1', 'https://www.scorecardresearch.com/home.aspx', 'https://adsrvr.org/?AspxAutoDetectCookieSupport=1', 'https://pki.goog', 'https://mobile.twitter.com/', 'https://www.cloudflare.com/', 'https://ntp.org', 'https://rubiconproject.com', 'https://www.amazon.com/', 'https://developers.facebook.com/', 'https://pubmatic.com', 'https://cdnjs.com/', 'https://hola.org', 'https://www.criteo.com/', 'https://developers.google.com/speed/libraries', 'https://www.microsoft.com/en-us/windows/', 'https://accounts.google.com/ServiceLogin?passive=1209600&continue=https://docs.google.com/&followup=https://docs.google.com/&emr=1', 'https://www.adobe.com/analytics/audience-manager.html', 'https://www.appsflyer.com/', 'https://casalemedia.com', 'https://www.bidswitch.com', 'https://products.office.com/en-us/sharepoint/collaboration?ms.officeurl=sharepoint&rtc=1', 'https://www.whatsapp.com/', 'https://www.adobe.com/', 'https://www.taboola.com/', 'https://www.linkedin.com/', 'https://m.facebook.com/?refsrc=https%3A%2F%2Fweb.facebook.com%2F&_rdr', 'https://amp.dev/', 'https://www.oracle.com/corporate/acquisitions/bluekai/', 'https://www.opendns.com:443/', 'https://www.mediamath.com/privacy-policy/', 'https://www.addthis.com/', 'https://www.google.com.vn/', 'https://www.godaddy.com/', 'https://www.tapad.com/', 'https://accounts.google.com/ServiceLogin?service=wise&passive=1209600&continue=https://drive.google.com/&followup=https://drive.google.com/&emr=1', 'https://www.amobee.com/', 'https://www.samsung.com/us/', 'https://www.outbrain.com/', 'https://www.avast.com/en-us/index', 'https://letsencrypt.org', 'https://sectigo.com', 'https://www.fastly.com/', 'https://www.spotify.com/us/', 'https://www.nielsen.com/us/en/solutions/capabilities/nielsen-marketing-cloud/', 'https://cloud.google.com/maps-platform/', 'https://zoom.us', 'https://www.adjust.com/', 'http://www.msn.com', 'https://newrelic.com', 'https://www.spotx.tv/', 'https://www.android.com/', 'https://www.tiktok.com/', 'https://developer.spotify.com/', 'https://www.media.net/', 'https://code.jquery.com', 'https://www.mozilla.org/en-US/', 'https://jquery.com', 'https://www.teads.com:443/', 'https://t.co', 'https://www.tiktok.com/?re=m', 'https://mixpanel.com', 'https://www.dropbox.com/', 'https://console.turn.com/app/account/index.htm', 'https://hangouts.google.com/unsupported', 'https://accounts.google.com/ServiceLogin?passive=1209600&continue=https://contacts.google.com/&followup=https://contacts.google.com/', 'https://www.jsdelivr.com', 'https://wordpress.org/', 'https://www.comodoca.com/', 'https://lijit.com', 'https://unity.com/', 'https://www.intel.com/content/www/us/en/homepage.html', 'https://smartadserver.com', 'https://www.globalsign.com/en', 'https://www.lotame.com/', 'https://business.linkedin.com/marketing-solutions/ads', 'https://pulsepoint.com/', 'https://branch.io', 'https://www.zemanta.com/', 'https://www.mgid.com/', 'https://analytics.twitter.com/about', 'https://www.hotjar.com/', 'https://www.centro.net', 'https://www.media.net/?host=contextual.media.net', 'https://en.gravatar.com/', 'https://accounts.google.com/ServiceLogin?service=cl&passive=1209600&osid=1&continue=https://calendar.google.com/calendar/render&followup=https://calendar.google.com/calendar/render&scc=1', 'https://developer.microsoft.com/en-us/graph', 'https://weather.com', 'https://simpli.fi', 'https://www.xbox.com:443/en-US/live', 'https://www.mopub.com/', 'https://www.w55c.net/', 'https://seller.samsungapps.com/login/signIn.as?returnURL=%2Fmain%2FsellerMain.as', 'https://www.alibaba.com/', 'https://www.amazontrust.com/index.html', 'https://cloudinary.com/', 'https://onesignal.com', 'https://bttrack.com', 'https://web.whatsapp.com', 'https://www.optimizely.com/', 'http://apidev.accuweather.com/developers/', 'https://www.adobe.io/', 'https://azure.microsoft.com/en-us/', 'https://www.snapchat.com/', 'https://trustarc.com', 'http://chartbeat.com/faq/what-is-ping-chartbeat-net', 'https://onedrive.live.com/', 'https://www.sharethrough.com/', 'https://truste.com', 'https://m.facebook.com/?refsrc=https%3A%2F%2Fpixel.facebook.com%2F&_rdr', 'https://www.teamviewer.com/en-us/', 'https://translate.google.com', 'https://p16-tiktokcdn-com.akamaized.net', 'https://www.flurry.com/', 'https://chartbeat.com', 'https://tribalfusion.com', 'https://www.webex.com/', 'https://www.applovin.com/', 'https://www.wayfair.com/', 'https://wordpress.com/', 'https://fonts.adobe.com/', 'https://www.digitru.st/', 'https://secure.gravatar.com', 'https://www.secureworks.com/', 'https://www.evidon.com/', 'https://segment.com/', 'https://gumgum.com', 'https://visualstudio.microsoft.com/', 'https://www.cisco.com/', 'https://adgear.com/en/', 'https://www.verisign.com/', 'https://www.zendesk.com/', 'https://developer.apple.com/icloud/', 'https://shopee.com/', 'https://www.youtube.com/?app=desktop', 'https://branch.io/why-branch/', 'https://telemetry.mozilla.org', 'https://www.flashtalking.com/', 'https://unity.com/solutions/unity-ads', 'https://www.bugsnag.com/', 'https://www.dropbox.com/developers', 'https://www.mozilla.org/en-US/firefox/new/?redirect_source=firefox-com', 'http://www.ucweb.com/', 'https://firefox.settings.services.mozilla.com/v1/', 'https://www.reddit.com/', 'https://fonts.adobe.com/?ref=tk.com', 'https://slack.com/?nojsmode=1', 'https://data.xcmdata.org/DEWeb/Pages/index.jsp', 'http://www.optmd.com', 'https://www.ntppool.org/en/', 'https://www.teamviewer.com/en/', 'https://www.stackadapt.com/', 'https://line.me/en/', 'https://www.zendesk.com/chat/?from=zp', 'https://skimresources.com', 'https://www.apple.com/ios/app-store/', 'https://powerlinks.com', 'https://sonobi.com', 'https://p16.muscdn.com', 'https://adblockplus.org', 'https://www.entrustdatacard.com/products/categories/ssl-certificates', 'https://amplitude.com', 'https://www.braze.com/', 'https://sharethis.com', 'https://www.yieldmo.com/', 'https://rkdms.com', 'https://www.adition.com/', 'https://www.helpshift.com/', 'https://www.33across.com/', 'https://www.geotrust.com/', 'https://code.createjs.com', 'https://tynt.com', 'https://www.hivestreaming.com/', 'https://cdn.onesignal.com', 'https://cloudflare.net/home/default.aspx', 'https://getintent.com', 'https://ajax.cloudflare.com', 'https://www.adroll.com/', 'https://www.truoptik.com/', 'https://www3.zoom.us', 'https://www.rapidssl.com/', 'https://www.apple.com/icloud/', 'https://www.nist.gov/', 'https://www.webex.com/team-collaboration.html', 'https://www.viber.com/en/?utm_source=invite&utm_Medium=share&utm_campaign=msgtest', 'https://www.eset.com/', 'https://vungle.com', 'https://conn1.oppomobile.com', 'https://www.google.com/chrome/', 'https://docs.microsoft.com/en-us/aspnet/ajax/cdn/overview', 'https://w3.crazyegg.com', 'https://ieonline.microsoft.com', 'https://useinsider.com', 'https://www.wikipedia.org/', 'https://supersonic.com/', 'https://unpkg.com', 'https://www.freewheel.com/', 'https://kargo.com', 'https://www.google.com.hk/', 'https://www.kantar.com/', 'https://www.inmobi.com/', 'https://www.walkme.com/', 'https://www.nvidia.com/en-us/', 'https://we-are-adot.com:443/', 'https://navdmp.com', 'https://login.yahoo.com', 'https://developer.apple.com/musickit/', 'https://cse.google.com/about', 'https://www.wikimedia.org/', 'https://www.jwplayer.com/', 'https://www.citrix.com/', 'https://wpa.chat.zalo.me', 'https://www.thawte.com/', 'https://usa.kaspersky.com/', 'https://www.advangelists.com/', 'https://www.walmart.com/', 'https://www.adskeeper.com/', 'https://search.yahoo.com', 'https://bitly.com/', 'https://www.onaudience.com/', 'https://www.cookielaw.org/', 'https://developer.microsoft.com/en-us/onedrive', 'https://myactivity.google.com/', 'https://gameplay.intel.com', 'https://www.identrust.com/', 'https://www.salesforce.com/products/platform/products/force/?d=70130000000f27V&internal=true', 'https://weatherapi.market.xiaomi.com', 'https://polyfill.io/v3/', 'https://meraki.cisco.com/', 'https://www.cylance.com/en-us/index.html', 'https://gameplayapi.intel.com', 'https://github.com', 'https://www.grammarly.com/', 'https://app.slack.com/?nojsmode=1', 'https://wpa.zalo.me', 'https://helpx.adobe.com/shockwave/shockwave-end-of-life-faq.html', 'https://www.innovid.com/', 'https://prebid-server.rubiconproject.com', 'https://static-spartan-eas-s-msn-com.akamaized.net', 'https://pstatp.com', 'https://omnithrottle.com', 'https://www.qualtrics.com/', 'https://www.google.com.sg/', 'https://www.onetrust.com/', 'https://www.aniview.com/', 'https://www.deepintent.com/', 'https://windscribe.com', 'https://ntp.org.cn', 'https://support.apple.com/', 'https://www2.bing.com', 'https://snippets.cdn.mozilla.net', 'https://hockeyapp.net/blog/', 'https://www.jivox.com/', 'https://safebrowsing.google.com', 'https://www.salesforce.com/', 'https://getpocket.com', 'https://discordapp.com', 'https://prebid.adnxs.com', 'https://dstillery.com/', 'https://blis.com/', 'https://www.nytimes.com/', 'https://www.google.co.id/', 'https://www.adcolony.com/', 'https://www.rapid7.com/', 'https://getpocket.cdn.mozilla.net', 'https://www.youtube.com/?feature=youtu.be', 'http://support.chartbeat.com/docs/api.html', 'https://www.intercom.com/', 'https://netcoresmartech.com', 'https://en.ad-stir.com/', 'https://vidazoo.com', 'https://commons.wikimedia.org/wiki/Main_Page', 'https://www.tenable.com/', 'https://www.starfieldtech.com/', 'http://www.zypmedia.com/', 'https://www.paypal.com/us/home', 'https://www.google.co.th/', 'https://p16-va.tiktokcdn.com', 'https://resolver.msg.xiaomi.net', 'https://sundaysky.com', 'https://www.certum.pl/pl/', 'https://www.tubemogul.com/', 'https://www.survata.com/', 'https://stripe.com', 'https://special-offers.online', 'https://dable.io/en/', 'https://acrobat.adobe.com/us/en/acrobat.html', 'https://aws.amazon.com/cognito/', 'https://www.revjet.com/', 'https://adkernel.com', 'https://www.userreport.com/', 'https://www.intentiq.com/', 'https://appsource.microsoft.com/en-us/marketplace/apps?product=office&page=1&src=office&corrid=44c97027-e2e2-4a8c-adc9-9f5221908cc4&omexanonuid=99d2246f-8d20-40aa-a153-ff2fe61b939a&referralurl=', 'https://ushareit.com', 'https://www.clickagy.com/', 'https://www.trustwave.com/en-us/', 'https://geistm.com/en', 'https://zen.yandex.ru/about', 'https://www.dell.com/en-us', 'https://static-spartan-wus-s-msn-com.akamaized.net', 'https://www.kochava.com/', 'https://www.adlightning.com/', 'https://us.alibabacloud.com', 'https://www.ensighten.com/', 'https://www.appsflyer.com/product/one-link-deep-linking/', 'https://www.microsoft.com/en-us?rtc=1', 'https://support0.bigo.sg', 'https://www.tapjoy.com:443/', 'https://accounts.google.com/ServiceLogin?service=classroom&passive=1209600&continue=https://classroom.google.com/&followup=https://classroom.google.com/&emr=1', 'https://liftoff.io', 'https://launchdarkly.com', 'https://www.bing.com/maps/sharing?FORM=LGCYVD', 'https://store.steampowered.com/', 'https://dsp.nrich.ai', 'https://www.n.rich/', 'https://www.ada.support/', 'https://mobile.yahoo.com', 'https://www.mapbox.com/', 'https://www.aol.com/', 'https://www.bouncex.com/', 'https://innity.com', 'https://rv-gateway.supersonicads.com', 'https://www.google.com.my/', 'https://www.mediatek.com/', 'https://docs.microsoft.com/en-us/bingmaps/?redirectedfrom=MSDN', 'https://get.google.com/apptips/apps/?utm_source=googlemobile&utm_campaign=redirect', 'https://support.zoom.us/hc/en-us', 'https://www.primevideo.com/', 'https://adtelligent.com', 'https://www.qualys.com/', 'http://www.cogocast.com/', 'https://www.bbc.com/', 'https://vk.com/badbrowser.php', 'https://www.cootlogix.com/', 'https://www.videoamp.com/', 'https://www.hubspot.com/', 'https://flipboard.com', 'https://www.cnn.com/', 'https://www.quora.com/', 'https://smrtb.com', 'https://match.bnmla.com', 'https://se2.itunes.apple.com', 'https://www.lastpass.com/', 'https://us.norton.com/', 'https://www.bigolive.tv/', 'https://www.fireeye.com/', 'https://www.citrix.com/products/citrix-intelligent-traffic-management/', 'https://ads.revjet.com', 'https://tapi.api.zaloapp.com', 'https://www.ebay.com/', 'https://www.wps.com', 'https://www.uservoice.com/', 'https://www.bing.com/maps/sharing?pc=W8AP', 'https://www.airship.com/', 'https://zeotap.com', 'https://retargetly.com', 'https://grey.erne.co', 'https://developers.googleblog.com/2018/03/transitioning-google-url-shortener.html', 'https://slack-infra-haproxy-www-p00cfjhmu34e.slack.com/avatarsource?nojsmode=1', 'https://mailchimp.com', 'https://trustx.org', 'https://springserve.com', 'https://www.lenovo.com/us/en/', 'https://www.pixalate.com/', 'https://www.infolinks.com/', 'https://www.shopify.com/', 'https://www.narrative.io/', 'https://www.demandbase.com/', 'https://www.imdb.com/', 'https://www.cinarra.com/', 'https://linecorp.com/en/', 'https://developer.microsoft.com/en-us/', 'https://www.joinhoney.com/', 'https://wx.qq.com', 'https://www.google.com.tw/', 'https://www.grab.com/sg/', 'https://mailchimp.com/about/mcsv-static', 'https://www.accountkit.com/', 'https://www.mi.com/global', 'https://www.ipify.org', 'https://www.spot.im/', 'https://www.dtscout.com/', 'https://cdn.polyfill.io/v3/', 'https://www.viglink.com/', 'https://www.izooto.com/', 'https://m.facebook.com/?refsrc=https%3A%2F%2Fb-www.facebook.com%2F&_rdr', 'https://support.office.com/en-us/article/about-the-microsoft-support-and-recovery-assistant-e90bb691-c2a7-4697-a94f-88836856c72f?ui=en-US&rs=en-001&ad=US', 'https://www.foresee.com/', 'https://justpremium.com', 'https://www.brightcove.com/en/', 'https://www.blogger.com/about/?r=1-null_user', 'https://www.viber.com/en/', 'https://lifestreet.com/', 'https://www.oracle.com/index.html', 'https://www.tapjoy.com/', 'https://www.logmeininc.com/', 'https://s.skimresources.com', 'https://www.addtoany.com/', 'https://ali-stats.jpush.cn', 'https://www.netgear.com:443/', 'https://news.google.com/topstories?hl=en-US&gl=US&ceid=US:en', 'https://www.ispot.tv/', 'https://login.wikimedia.org/wiki/Main_Page', 'https://corporate.jd.com/home', 'https://www.steepto.com/', 'https://exposebox.com', 'https://red.erne.co', 'https://www.dataplusmath.com/', 'https://admixer.com/', 'https://www.adpone.com/', 'https://www.primis.tech', 'https://www.chartboost.com/', 'https://ants.vn', 'https://www.google.ru/', 'https://www.mparticle.com:443/', 'https://hadhramaut.co.uk/', 'https://www.okta.com/', 'https://finance.yahoo.com', 'https://www.localytics.com/', 'https://chocolateplatform.com', 'https://static-global-s-msn-com.akamaized.net', 'https://aws.amazon.com', 'https://www.autodesk.com/', 'https://music.amazon.com/browserWarning?useHorizonte=true', 'https://conn2.oppomobile.com', 'https://www.bing.com/?mkt=zh-CN', 'https://www.bazaarvoice.com/', 'https://support.mozilla.org/en-US/', 'https://en.wikipedia.org/wiki/Main_Page', 'https://www.noxgroup.com/', 'https://www.messenger.com/', 'https://news.yahoo.com', 'https://gd-stats.jpush.cn', 'https://ip-api.com', 'https://www.adswizz.com/', 'https://developers.google.com/time/', 'https://www.media.net/?host=hbolg.media.net', 'https://js.intercomcdn.com/shim.latest.js', 'https://revopush.com', 'https://usabilla.com', 'https://www.audible.com/', 'https://www.2h-fit.com/', 'https://www.tawk.to/', 'https://www.lazada.com/en/', 'https://smadex.com', 'https://www.techsmith.com/', 'https://reson8.com', 'https://cloud.huawei.com', 'https://stickers.zaloapp.com', 'https://www.malwarebytes.com/', 'https://ring.com', 'https://www.google.com.ph/', 'https://www.cmcm.com/', 'https://www.revcontent.com:443/', 'https://piano.io/', 'https://www.appdynamics.com/', 'https://www.washingtonpost.com/', 'https://sa.api.intl.miui.com', 'https://help.yahoo.com/kb/account', 'https://permutive.com', 'https://www.plista.com/', 'https://meta.wikimedia.org/wiki/Main_Page', 'https://trust-provider.com/products/frontpage?area=ssl', 'https://www.livechat.com/', 'https://www.epicgames.com/store/en-US/', 'https://www.pandora.com', 'https://is-gateway.supersonicads.com', 'https://www.gemius.pl/strona-glowna.html', 'https://comedia.coccoc.com', 'https://www.cxense.com/', 'https://adbro.me/en/', 'https://www.thekitchn.com/', 'https://www.alephd.com/', 'http://rtmark.net/', 'https://addons.mozilla.org/en-US/firefox/', 'https://csp.withgoogle.com/docs/index.html', 'https://conf.lsosad.com', 'https://www.servicenow.com/', 'https://mobileadtrading.com', 'https://www.goto.com/', 'https://support.google.com', 'http://www.histats.com/', 'https://aws.amazon.com/s3/', 'https://quantcast.mgr.consensu.org', 'https://www.atlassian.com/', 'https://slate.com', 'https://www.dynata.com/', 'https://cloudflare-dns.com', 'https://sharedid.org', 'https://www.quovadisglobal.com/', 'https://z-na.amazon-adsystem.com', 'https://xg4ken.com', 'https://bluecava.com/alc/', 'https://www.mcafee.com/en-us/index.html', 'https://api.github.com', 'https://www.alexa.com/', 'https://login.salesforce.com', 'https://www.uber.com/', 'https://txxx.com/', 'http://www.w55c.net', 'https://soundcloud.com', 'https://www.fitbit.com/us/home', 'https://www.adventori.com/', 'https://www.ey.com/en_us', 'https://blockthrough.com/', 'https://developers.google.cn', 'https://www.widespace.com/', 'https://www.leanplum.com/', 'https://tongdun.net', 'https://luminati.io', 'https://om.forgeofempires.com/foe/us/?ref=dotcom', 'https://sports.yahoo.com', 'https://green.erne.co', 'https://www.innogames.com', 'https://api-talk.api.zaloapp.com', 'https://www.bitmoji.com/', 'https://www.pingdom.com/', 'https://www.fullstory.com/', 'https://linkmaker.itunes.apple.com/en-us', 'https://www.zendesk.com/help-center-closed/?utm_content=assets.zendesk.com&utm_source=helpcenter-closed&utm_medium=poweredbyzendesk', 'https://videopress.com/', 'https://valueimpression.com', 'https://glitter.services.disqus.com', 'https://push.house', 'https://jira.iponweb.net', 'https://account.box.com/login', 'https://www.pardot.com/', 'https://www.outsideonline.com/', 'https://www.tumblr.com', 'https://asia-ro-up.vivoglobal.com', 'https://mcusercontent.com', 'https://www.moengage.com/', 'https://www.section.io/', 'https://statcounter.com', 'https://www.mimecast.com/', 'https://www.google.ca/', 'https://www.reasonsecurity.com:443/', 'https://datatables.net', 'https://cdn.datatables.net', 'https://jaccount.sjtu.edu.cn/jaccount/jalogin?sid=jasjtumail&returl=CD9HvwsZBk3KuM8iHwk9TgHCeLf6BFQZ4%2FFEjq3ulrwSTKjU4Hgu4IwWe5FOhmQ773pyfDjCA%2BvVrWtPBgCLmV0%3D&se=CGfL1gxB%2BviYr95HLs0ZFrq6zxVBxgblGLG2jS8uyaV8NSbBsI5NSMI%3D', 'https://www.conviva.com/', 'https://images.edge.messenger.live.com', 'https://www.tastecooking.com', 'https://eyereturnmarketing.com/', 'https://www.medallia.com/', 'https://whos.amung.us/', 'https://www.parse.ly/', 'https://www.voicefive.com/home.aspx', 'https://adsmoloco.com', 'https://www.treasuredata.com/', 'https://lithub.com', 'https://safelinks.protection.outlook.com', 'https://yomedia.vn', 'https://www.intuit.com/', 'https://www.popsci.com/', 'https://qualaroo.com', 'https://www.digitalocean.com', 'https://www.adblade.com/', 'https://www.admedo.com/', 'https://www.bittorrent.com/', 'https://vwo.com/', 'https://static.cloudflareinsights.com', 'https://rawgit.com', 'https://www.celtra.com/', 'https://gameanalytics.com', 'https://www.oracle.com/marketingcloud/products/marketing-automation/', 'https://pusher.com', 'https://www.goodreads.com/', 'https://www.vox.com/', 'https://tealiumiq.com', 'https://yahoo.uservoice.com', 'https://www.infectiousmedia.com/', 'https://acompli.helpshift.com/a/outlook-mobile/', 'https://securedvisit.com', 'https://acrobat.adobe.com/us/en/acrobat/pdf-pack-pricing.html', 'https://secure.livechatinc.com', 'https://www.mediavine.com/', 'https://nice-prod.pro', 'https://www.nvidia.com/en-us/geforce/', 'https://c.statcounter.com', 'https://location.api.useinsider.com', 'https://static.quantcast.mgr.consensu.org', 'https://iotechnologies.com/', 'https://www.shopbop.com/', 'https://www.workplace.com/', 'https://www.vivo.com/en/', 'https://heap.io/', 'https://developer.wordpress.com/docs/api/', 'https://www.bookdepository.com/', 'https://en.mail.qq.com/cgi-bin/loginpage', 'https://cpmstar.com', 'https://login.msa.msidentity.com', 'https://tenor.com/', 'https://p16.tiktokcdn.com', 'https://lgin.msa.trafficmanager.net', 'https://accounts.google.com/ServiceLogin?service=billing&passive=1209600&continue=https://pay.google.com/payments/home&followup=https://pay.google.com/payments/home', 'https://www.utorrent.com/', 'https://www.pornhub.com/', 'https://sentry.io/welcome/', 'https://p16-sg.muscdn.com', 'https://www.trafficfactory.com', 'https://prod-tp.sumo.mozit.cloud/en-US/', 'https://www.trafficjunky.com/', 'https://amazon.jobs', 'https://www.everquote.com:443/', 'https://www.doubleverify.com/', 'https://www.verizonwireless.com/?intcmp=vzwdom', 'https://www.abebooks.com/', 'https://www.avast.com/secure-browser', 'https://www.microsoft.com/en-us/swiftkey?rtc=1', 'https://www.dpreview.com/', 'https://www.google.co.uk/', 'https://www.foxnews.com/', 'https://www.rakuten.com/', 'https://search.services.mozilla.com', 'https://www.amazon.jobs', 'https://kdp.amazon.com/en_US/', 'https://www.speedtest.net/', 'https://www.forter.com/', 'https://open.spotify.com', 'https://advertising.amazon.com', 'https://cdns.gigya.com', 'https://developers.hubspot.com/', 'https://sf6-ttcdn-tos.pstatp.com', 'https://www.twilio.com:443/', 'https://www.hrblock.com/', 'https://ubuntu.com', 'https://privacy.microsoft.com/en-us/', 'https://www.pillpack.com/', 'https://wistia.com', 'https://alphonso.tv', 'https://affiliate-program.amazon.com', 'https://www.zappos.com:443/', 'https://www.acx.com', 'https://www.woot.com/', 'https://www.boxofficemojo.com/', 'https://community.workday.com/invalid-url', 'https://pro.imdb.com/signup/index.html?u=https%3A%2F%2Fpro.imdb.com%2F', 'https://www.zappos.com', 'https://datablocks.net', 'https://blueshift.com/', 'https://www.comixology.com/', 'https://developer.amazon.com', 'https://www.eastdane.com/', 'https://samba.tv', 'https://rapids.amazon.com', 'https://www.fabric.com/', 'https://sell.amazon.com', 'https://ravenjs.com', 'https://www.life360.com/', 'https://www.createspace.com', 'https://eero.com', 'https://libtorrent.org', 'http://rarbg.to/index80.php', 'https://weborama.com/', 'https://videodirect.amazon.com/home/landing', 'https://na.leagueoflegends.com/en-us/', 'https://content.tapjoy.com', 'https://shop.ring.com', 'https://www.verizon.com/home/verizonglobalhome/ghp_landing.aspx', 'https://flickr.com/browser/upgrade/?continue=%2F', 'https://worldtimeapi.org', 'https://sift.com/', 'https://www.quantummetric.com/', 'https://uni-corn.net', 'https://blog.aboutamazon.com', 'https://meet.google.com/unsupported?ref=https://meet.google.com/', 'https://www.netgear.com', 'https://jumpcloud.com', 'https://synchroscript.ui.adswizz.com/www/admin/index.php', 'https://ignite.amazon.com', 'https://www.highcharts.com/', 'https://www.box.com/', 'https://advertnative.com', 'https://www.wholefoodsmarket.com/', 'https://asia-err-up.vivoglobal.com', 'https://www.ask.com/', 'https://accounts.google.com/ServiceLogin?service=jotspot&passive=1209600&continue=https://sites.google.com/&followup=https://sites.google.com/', 'https://anydesk.com/en', 'https://login.msa.akadns6.net', 'https://v.ssacdn.com', 'https://adsafety.net', 'https://dyna.wikimedia.org', 'https://ultraviewer.net/en/', 'https://www.google.co.jp/', 'https://keywee.co', 'https://www.foxitsoftware.com/document-management-solutions/?lang=en', 'https://slack-infra-haproxy-www-p00cfjhmu34e.slack.com/emoji-serve-team?nojsmode=1', 'https://www.lg.com/us', 'https://www.verizonmedia.com/policies/', 'https://products.office.com/en-us/home?legRedir=default&CorrelationId=45075240-26e4-48c2-b8b8-fc0210c4d3f3&rtc=1', 'https://www.aboutamazon.com', 'https://www.microsoft.com/en-us/download', 'https://ts01-b.cloudsink.net', 'https://tailtarget.com', 'https://www.playbuzz.com/', 'https://www.opswat.com/', 'https://meraki.cisco.com/products/systems-manager/', 'https://www.emerse.com/', 'https://singular.net', 'https://www.ea.com/', 'https://primenow.amazon.com/onboard?forceOnboard=1&sourceUrl=%2Fhome', 'https://www.sony.net/', 'https://fe-bl02p-msa.trafficmanager.net', 'https://www.datadoghq.com/', 'https://www.espn.com/', 'https://www.vice.com/en_us', 'https://code.highcharts.com', 'http://www.xvideos.com/', 'https://opinsights.azure.com', 'https://cdn.heapanalytics.com', 'https://www.sportradar.com/about-us/privacy/', 'https://www.kompas.com/', 'https://gov.teams.microsoft.us', 'https://api.omappapi.com/login/', 'https://lbs.like.video', 'https://www.samsung.com/us/business/samsungads/', 'https://www.appnext.com/', 'https://www.google.co.in/', 'https://speedcurve.com', 'https://www.wattpad.com/', 'https://lciapi.ninthdecimal.com', 'https://mobile-static.adsafeprotected.com', 'https://www.ninthdecimal.com/', 'https://www.hulu.com/welcome', 'https://www.tritondigital.com/', 'https://www.behance.net/', 'https://www.smithsonianmag.com/', 'https://www.torrentsmd.com', 'https://zetaglobal.com/', 'https://voltn.agency/', 'https://lfodown01-b.cloudsink.net', 'https://www.6pm.com:443/', 'https://ipinfo.io', 'https://www.6pm.com', 'https://www.automox.com:443/', 'https://cdns.us1.gigya.com', 'https://developers.livechat.com/docs/management/configuration-api/v2.0/', 'https://www.bytefence.com/', 'https://www.statuspage.io/', 'https://www.amazon.co.uk/', 'https://www.aliexpress.com/', 'https://www.avira.com/', 'https://www.zedo.com/', 'https://apptimize.com', 'https://stats.jpush.cn', 'https://bunnycdn.com', 'https://www.bankofamerica.com/', 'https://www.skyhook.com', 'https://time.com', 'https://www.akamai.com', 'https://accounts.google.com/ServiceLogin?service=analytics&passive=1209600&continue=https://analytics.google.com/analytics/web/&followup=https://analytics.google.com/analytics/web/', 'https://www.swrve.com/', 'https://ns1.com', 'https://www.oppo.com/en/', 'https://www.sift.co/', 'https://www.viewdeos.com/', 'https://www.constantcontact.com/index.jsp', 'https://www.bitdefender.com/', 'https://medium.com', 'https://beemray.com', 'https://cdn.speedcurve.com', 'https://www.bbc.co.uk/', 'https://www.solarwindsmsp.com/', 'https://www.thesimpledollar.com/', 'https://login.live.com/login.srf?wa=wsignin1.0&rpsnv=13&ct=1587066626&rver=7.1.6819.0&wp=MBI_SSL&wreply=https%3A%2F%2Flw.skype.com%2Flogin%2Foauth%2Fproxy%3Fsite_name%3Dlw.skype.com&lc=1033&id=293290&mkt=en-US&psi=skype&lw=1&cobrandid=2befc4b5-19e3-46e8-8347-77317a16a5a5&client_flight=ReservedFlight33%2CReservedFlight67', 'https://nymag.com', 'https://e-volution.ai', 'https://sortable.com/', 'https://admedia.com', 'https://developer.box.com', 'https://yandex.com', 'https://www.sabiomobile.com/', 'https://www.politico.com/', 'https://accounts.google.com/ServiceLogin?passive=1209600&osid=1&continue=https://myaccount.google.com/general-light&followup=https://myaccount.google.com/general-light&csig=AF-SEnYZjXhVN67VV_i3:1587066632', 'https://www.bluejeans.com/', 'https://www.marketo.com/', 'https://www.connectadrealtime.com', 'https://adop.cc/en/5403-2/', 'https://www.node4.co.uk/', 'https://www.dingtalk.com/en', 'https://www.wellsfargo.com/', 'https://b.admedia.com', 'https://scroll.com', 'https://www.budgetphone.nl/', 'https://www.squarespace.com/', 'https://www.nintendo.com/', 'https://downloads.dell.com/published/Pages/index.html', 'https://www.apptentive.com/', 'https://cdn.quantummetric.com', 'https://www.wix.com/', 'https://www.chase.com/', 'https://arstechnica.com', 'https://support.microsoft.com/en-us', 'https://duo.com/', 'https://trello.com', 'https://m.facebook.com/?refsrc=https%3A%2F%2Fupload.facebook.com%2F&_rdr', 'https://www.buzzfeednews.com/', 'https://steamcommunity.com', 'https://developers.giphy.com', 'https://affectv.com/', 'https://telegram.org', 'https://www.google.de/', 'https://digitalguardian.com', 'https://gorgon.youdao.com', 'https://www.google.com/videohp', 'https://www.foxitsoftware.com/', 'https://accounts.google.com/ServiceLogin?service=feedburner&continue=https%3A%2F%2Ffeedburner.google.com%2Ffb%2Fa%2Fmyfeeds&gsessionid=iKiWe27E5heJrL9FU5rKCQ74jJq2MWTe', 'https://www.webroot.com/us/en', 'https://www.us-west-2.prodaa.netflix.com', 'https://2talk.com', 'https://www.avg.com/en-us/homepage', 'https://www.holler.io/', 'https://www.paloaltonetworks.com', 'https://sstatic.net', 'https://www.cint.com/', 'https://cdn.sstatic.net', 'https://sso.godaddy.com/?app=certs&path=%2Fcert', 'https://c3tag.com', 'https://www.cookiebot.com/en/', 'https://www.wsj.com/', 'https://www.gradwell.com/', 'https://playrix.com', 'https://pubnative.net', 'https://m.eskimi.com/', 'https://www.zergnet.com/', 'https://www.mediarithmics.com/en-us', 'https://www.flickr.com/browser/upgrade/?continue=%2F', 'https://prod.perf-serving.com', 'https://www.voxox.com/', 'https://e-jp.cmcd1.com', 'https://whiteboard.microsoft.com', 'https://support.office.com', 'https://www.dianomi.com/cms/', 'https://lantern.io/en_US/', 'https://cds.s5x3j6q5.hwcdn.net', 'https://lightboxapi.azurewebsites.net', 'https://accounts.google.com/ServiceLogin?service=billing&passive=1209600&continue=https://payments.google.com/payments/home&followup=https://payments.google.com/payments/home', 'https://exponential.com/cgi-sys/defaultwebpage.cgi', 'https://www.jumblo.com/dashboard', 'http://www.xnxx.com/', 'https://powerbi.microsoft.com/en-us/', 'https://www.blizzard.com/en-sg/?ref=battle.net', 'https://supercell.helpshift.com/a/brawl-stars/?p=web', 'https://stackoverflow.com', 'https://money.yahoo.com', 'https://main.ubdata.info', 'https://adx1.com', 'https://trackjs.com', 'https://ipv4.login.msa.akadns6.net', 'https://contributor.google.com/v/beta', 'https://adasiaholdings.com', 'https://www.voipzoom.com/dashboard', 'https://www.drift.com/', 'https://www.amazon.de/', 'https://aihelp.net', 'https://developers.arcgis.com/javascript/', 'https://counterpath.com', 'https://remarketingpixel.com', 'https://www.klaviyo.com/', 'https://r.remarketingpixel.com', 'https://www.google.com.br/', 'https://www.grid.id:443/', 'https://accounts.google.com/o/noscript', 'https://login.eloqua.com', 'https://www.dmca.com', 'https://www.wechat.com/en', 'https://wikibuy.com', 'https://www.iovation.com/stopfraud', 'https://www.worldometers.info/', 'https://www.cornerstoneondemand.com/', 'https://picsart.com', 'https://www.segurazo.com', 'https://segurazo.com', 'https://code.visualstudio.com', 'https://static-entertainment-wus-s-msn-com.akamaized.net', 'https://cs30.net', 'https://www.edmunds.com/', 'https://www.sumologic.com/', 'https://www.9mediaonline.com/', 'https://www.validity.com/products/returnpath/', 'https://mozilla.cloudflare-dns.com', 'https://www.detik.com/', 'https://foursquare.com', 'https://www.pubnub.com/', 'https://www.ui.com/', 'https://sellercentral.amazon.com', 'https://intlsucus.ucweb.com', 'https://www.sojern.com/', 'https://grab.workplace.com/work/landing/input/', 'https://api.appcues.net', 'https://www.admantx.com/', 'https://www.adp.com/', 'https://www.vmware.com/', 'https://embed.ly/', 'http://stack.imgur.com', 'https://webextensions.settings.services.mozilla.com/v1/', 'https://prebid.appnexusgslb.net', 'https://vdo.ai', 'https://www.instructure.com/', 'https://search.r53-2.services.mozilla.com', 'https://www.aebc.com/', 'https://www.kwai.com/', 'https://a.klaviyo.com', 'https://ofa-sub.osp.opera.software', 'https://sg.yahoo.com', 'https://pay.shopify.com', 'https://www.tenjin.io/', 'https://www.zscaler.com', 'https://mikrotik.com', 'https://www.lendingtree.com:443/', 'http://delivery.lavanetwork.net/www/admin/index.php', 'https://usage.trackjs.com', 'https://jetpack.com/', 'https://www.userzoom.com/', 'https://www.wootric.com/', 'https://www.tp-link.com/us/', 'https://www.adtilt.com', 'https://sdkapiv2.bizport.cn', 'https://www.bluestacks.com/', 'https://www.atlassian.com/software', 'https://www.homedepot.com/', 'https://tvsquared.com', 'https://ads.servenobid.com', 'https://opentrackr.org', 'https://www.google.com.pk/', 'https://accounts.google.com/ServiceLogin?service=sierra&passive=1209600&osid=1&continue=https://pay.google.com/send/home&followup=https://pay.google.com/send/home', 'https://www.dynamicyield.com/', 'https://www.usbank.com/index.html', 'https://datadome.co', 'https://wa.gov', 'https://sumo.com', 'https://brain.foresee.com/status', 'https://www.microsoft.com/en-us/windows/windows-10-mobile-upgrade', 'https://instabug.com', 'https://www.weebly.com/', 'https://tracker.opentrackr.org', 'https://aefd.nelreports.net', 'https://www.brightcloud.com/', 'https://www.here.com/', 'https://chocolatey.org', 'https://fast.a.klaviyo.com', 'https://www.bidgear.com/', 'https://accounts.google.com/ServiceLogin?service=billing&passive=1209600&continue=https://pay.sandbox.google.com/payments/home&followup=https://pay.sandbox.google.com/payments/home', 'https://litestatis.facemojikeyboard.com', 'https://www.papertrail.com', 'https://www.trackonomics.net/', 'https://www.bold360.com/', 'https://www.wondershare.com/', 'https://mouseflow.com', 'https://www.winzip.com/win/en/', 'https://cx.rightnow.com/', 'https://usasync01.admantx.com', 'https://kollective.com/', 'https://movip.wps.com', 'https://stc-zalosdk.zdn.vn', 'https://truehits.net/', 'https://www.zoho.com/', 'https://tencentgames.helpshift.com/a/pubgm/', 'https://www.target.com', 'https://www.surveymonkey.com/', 'https://snapkit.com', 'https://www.mobfox.com/', 'https://internetdownloadmanager.com', 'https://sendpulse.com', 'https://horizonte.browserapps.amazon.com', 'https://status.discordapp.com', 'https://www.plex.tv/', 'https://www.docker.com/', 'https://www.capitalone.com/', 'https://ad.wsod.com', 'https://speedtest.dailymotion.com', 'https://www.bkav.com/', 'https://www.pscp.tv/', 'https://www.lendingtree.com/', 'https://sendbird.com', 'https://www.logitech.com/en-us', 'https://brave.com', 'https://www.logmein.com/', 'https://unsplash.com', 'https://www.snappea.com/', 'https://www.ups.com/us/en/global.page', 'https://www.microsoft.com/en-us/store/apps?rtc=1', 'https://today.line.me', 'https://myaccount.google.com/not-supported', 'https://www.google.com.au/', 'https://www.ezvizlife.com/us', 'https://www.stackpath.com/maxcdn/', 'https://daa.shuzilm.cn', 'https://shopping.yahoo.com', 'https://images.search.yahoo.com', 'https://evernote.com', 'https://example.com', 'https://nest.com', 'https://www.americanexpress.com/', 'https://openweathermap.org', 'https://adsco.re', 'https://www.sony.com/electronics/mobile', 'https://www.cdc.gov/', 'https://adtrue.com', 'https://rss.msn.com', 'https://www.yotpo.com/', 'https://www.ezoic.com/', 'https://ivideosmart.com', 'https://playrix.helpshift.com/a/township/?p=web', 'https://www.smartsheet.com', 'https://www.npr.org/', 'https://www.fedex.com/global/choose-location.html', 'https://www.att.com/', 'https://my.com', 'https://video.search.yahoo.com', 'https://www.yelp.com/', 'https://sgp.ntp.org.cn', 'https://steelhouse.com/', 'https://books.google.com', 'http://www.mediamath.com/', 'https://www.facebook.com/gaming/', 'https://mobshark.net', 'https://www.bloomberg.com/tosv2.html?vid=&uuid=e9adcd70-801d-11ea-bcd8-5747b482dd73&url=Lw==', 'https://www.irs.gov/', 'https://healthguides.cnn.com', 'https://intuit-teams.slack.com/?nojsmode=1', 'https://www.jetbrains.com/', 'https://nbryb.com', 'https://wowreality.info', 'https://resolver.gslb.mi-idc.com', 'https://www.nbcuniversal.com/', 'https://www.proofpoint.com/us', 'https://www.mobvista.com/en/', 'https://account.wps.com', 'https://suara.com', 'https://lbs.netease.im', 'https://g.3gl.net', 'https://users-api.com', 'https://popup.taboola.com', 'https://www.facebook.com/watch', 'https://www.advertizer.com', 'https://www.adthrive.com/', 'https://www.xbox.com:443/en-US/', 'https://www.arcpublishing.com/', 'https://www.bluecore.com', 'https://uxip.meizu.com', 'https://clashofclans.com', 'https://info.startappservice.com', 'https://service.force.com', 'https://pandora.ui.adswizz.com/www/admin/index.php', 'https://www.xfinity.com/', 'https://emo.v-mate.mobi', 'https://www.bebi.com', 'https://www.alc.com', 'https://google.zoom.us', 'https://www.tripadvisor.com/', 'https://digital.gov/', 'https://www.inspectlet.com/', 'https://www.bukalapak.com/', 'https://www.etsy.com/', 'https://vbw.vivoglobal.com', 'https://www.bluetriangle.com/', 'https://globalvideo.cdn.pandora.intl.xiaomi.com', 'https://t.smartsheet.com/en/browser-support-message', 'https://img.c3tag.com', 'https://www.airbnb.com/', 'https://www.liveintent.com/', 'https://www.exoclick.com/', 'https://cbsinteractive.com/', 'https://davita.csod.com/client/davita/default.aspx', 'https://www.craigslist.org/about/sites', 'https://report.url.cn', 'https://www.joox.com/limits', 'https://salesloft.com', 'https://a.vdo.ai', 'https://api.facemojikeyboard.com', 'http://berita.baca.co.id', 'https://insights.fastlylabs.com/', 'https://www.braintreegateway.com/login', 'https://www.playstation.com/en-us/', 'https://www.genesys.com/genesys-cloud', 'https://www.megaphone.fm/', 'https://clicky.com/', 'https://www.apple.com/choose-country-region/', 'https://granicus.com/', 'https://www.kwai.com', 'https://log.avlyun.sec.intl.miui.com', 'https://stripe.com/payments/checkout', 'https://www.dashlane.com/', 'https://www.ldplayer.net/', 'https://www.affinity.com/', 'https://urldefense.proofpoint.com', 'https://passwordreset.microsoftonline.com', 'https://www.tradingview.com/', 'https://www.worldtimeserver.com/', 'https://log.zoom.us', 'https://www.zillow.com/', 'https://monday.com', 'https://www.jixie.io/', 'https://account.adobe.com/', 'https://internet.sony.tv/customer/', 'https://www.apple.com/itunes/?cid=OAS-US-DOMAINS-itunes.com', 'https://www.g2.com/', 'https://static-entertainment-eas-s-msn-com.akamaized.net', 'https://www.snap.com/en-US/', 'https://www.cardlytics.com/', 'https://browser-update.org', 'https://www.synology.com/en-global', 'https://www.loggly.com/', 'https://www.dailymail.co.uk/ushome/index.html', 'https://ssxd.mediav.com', 'https://feedify.net', 'https://radio-services.itunes.apple.com', 'https://www.manage.com/', 'https://gcorelabs.com/cdn/', 'https://www.iheart.com/', 'https://open.weixin.qq.com', 'https://ow-gateway.supersonicads.com', 'https://www.iris.tv/', 'https://www.truecaller.com/', 'https://st.dc3.dailymotion.com', 'https://st.sv4.dailymotion.com', 'https://www.viu.com/ott/no-service/', 'https://bleacherreport.com', 'https://ts.line-apps.com', 'https://api.bluecore.com', 'https://tempest.services.disqus.com', 'https://www.google.fr/', 'https://www.onelogin.com/', 'https://www.minecraft.net/en-us/', 'https://nianticlabs.com', 'https://www.google.com/intl/en_us/chromecast/built-in/', 'https://www.freshworks.com/live-chat-software/', 'https://www.google.co.kr/', 'https://www.appcues.com/', 'https://amp.azure.net', 'https://wdl1.file.cache.docer.com', 'https://lightroom.adobe.com/unsupported', 'https://includemodal.com', 'https://www.shareaholic.com/', 'https://members.ip-api.com/', 'https://cn.pornhub.com', 'https://id.yahoo.com', 'https://union.ucweb.com', 'https://cdn.sendpulse.com/login/', 'https://s3.nzbdw.com', 'https://www.split.io/', 'https://www.ghostery.com/', 'https://www.tribunnews.com', 'https://www.realme.com/global/', 'https://www.usebutton.com/', 'https://openbittorrent.com', 'http://www.admeta.com', 'https://inbox.clashofclans.com', 'https://www.media.net/?host=keywordblocks.com', 'https://outfit7.com', 'https://api.iperceptions.com', 'https://tracker.openbittorrent.com', 'https://portal.dynect.net', 'https://www.internetdownloadmanager.com', 'https://stackexchange.com', 'https://www.bootcss.com/', 'https://photos.google.com/browser-not-supported/?ref=/', 'https://onclusive.com/', 'https://us.elvenar.com/', 'https://www.sonos.com/en-us/home', 'https://www.amazon.ca/', 'https://www.ccleaner.com/', 'https://www.garmin.com/en-US/', 'https://sports.yahoo.com/fantasy/', 'https://blueseed.tv', 'https://hermann.ai', 'https://logger.suibyuming.com', 'https://www.schwab.com/', 'https://improving.duckduckgo.com', 'https://www.themoviedb.org/', 'https://www.foxbusiness.com/', 'https://www.sailthru.com/', 'https://www.vilynx.com/', 'https://www.fandom.com/', 'https://st.nyc.dailymotion.com', 'https://www.olark.com/', 'https://streamtheworld.com', 'https://www.zynga.com/', 'https://tenor.com/gifapi', 'https://www.usaa.com/', 'https://sina.com', 'https://www.guernicamag.com/', 'https://in.yahoo.com', 'https://www.google.es/', 'https://www.resetdigital.co/', 'https://www.mediafire.com/', 'https://internetwarriors.net', 'https://articulate.com', 'https://popcash.net', 'https://www.amazon.fr/', 'https://www2.meethue.com/en-us', 'https://www.vidio.com', 'https://supercell.com/en/', 'https://ncaudienceexchange.com/about/', 'https://r-login.wordpress.com', 'https://c.lazada.vn', 'https://connect.detik.com', 'https://jampp.com', 'https://shortpixel.ai', 'https://www.wildtangent.com/', 'https://www.audioeye.com/marketplace', 'https://www.google.it/', 'https://shortpixel.com/api-docs', 'https://www.richrelevance.com/', 'https://www.concursolutions.com/nui/signin', 'https://www.google.nl/', 'https://www.ziffdavis.com/', 'https://cdn.radiantmediatechs.com', 'https://radiantmediatechs.com', 'https://www.blizzard.com/en-sg/', 'https://s2s.rtk.io', 'https://www.salesforce.com/products/marketing-cloud/email-marketing/?d=exacttarget.com/&internal=true', 'http://www.internetdownloadmanager.com/', 'https://dgps.support.microsoft.com', 'https://www.trustpilot.com/', 'https://www.pushwoosh.com/', 'https://vidy.com', 'https://whatismyipaddress.com', 'https://www.andbeyond.media', 'https://sessioncam.com', 'https://st.ty4.dailymotion.com', 'https://wbd.ms', 'https://en.m.wikipedia.org/wiki/Main_Page', 'https://usa.kaspersky.com/downloads', 'https://www.apple.com/apple-music/', 'https://subscriptions.yahoo.com', 'https://oem.kika-backend.com', 'https://www.cnbc.com', 'https://whiteboard.ms', 'https://vcdn.dantri.com.vn', 'https://www.wired.co.uk/', 'https://uzone.id', 'https://baseball.fantasysports.yahoo.com', 'https://www.microsoft.com/en-us/windows/windows-10-apps', 'https://developer.usebutton.com', 'https://answers.yahoo.com', 'https://policies.yahoo.com/us/en/yahoo/terms/index.htm', 'https://iqm.com', 'https://trends.google.com/trends/', 'https://registeridm.com', 'https://www.jabra.com/', 'https://www.shutterstock.com:443/', 'https://www.indeed.com/', 'https://www.amazon.com/amazonprime?_encoding=UTF8&%2AVersion%2A=1&%2Aentries%2A=0', 'https://www.splashtop.com/', 'https://ooyala.dalet.com/', 'https://archive.org', 'https://zen.yandex.com/about', 'https://c.lazada.co.id', 'https://p16-sg-default.akamaized.net', 'https://feed.mx2push.xyz', 'https://www.nativo.com/simplereach', 'https://apicomment.dantri.com.vn', 'https://statics-marketingsites-wcus-ms-com.akamaized.net/en-us/?rtc=1', 'https://www.peer5.com/', 'https://secure.internetdownloadmanager.com', 'https://starhalo.mobi', 'https://tgdd.vn', 'https://ucus.ucweb.com', 'https://api.mobshark.net', 'https://townnews.com', 'https://www.google.dk/', 'https://developer.foursquare.com', 'https://ipapi.co', 'https://www.nih.gov/', 'https://meet.lync.com', 'https://www.google.com.bd/', 'https://operamini-sub.osp.opera.software', 'https://disq.us', 'https://r.3gl.net', 'https://work.weixin.qq.com', 'https://www.booking.com/', 'https://www.usps.com/', 'https://docs.microsoft.com/en-us/', 'https://gojek.link', 'https://logentries.com', 'https://www.truepush.com/', 'https://www.cryptocompare.com/', 'https://www.iflix.com/', 'https://wpengine.com', 'https://imgstat.baidu.com', 'https://tw.yahoo.com', 'https://www.yahoo.com/?err=404', 'https://www.marketwatch.com/', 'https://ws.audioeye.com', 'https://www.affirm.com/', 'https://account.microsoft.com/unsupported-browser', 'https://gfycat.com', 'https://www.forbes.com/', 'https://www.districtm.net/', 'https://smartstream.tv', 'https://prebid-server.rubiconproject.net.akadns.net', 'https://www.superawesome.com/', 'https://min-api.cryptocompare.com', 'https://greenwichmeantime.com', 'https://mps.nbcuni.com/index.php/sitechooser', 'https://www.latimes.com:443/', 'https://dana.id', 'https://support.google.com/business/answer/3420286?p=browser_support&visit_id=637226653879628759-2412286569&rd=1', 'https://www.yahoo.com/lifestyle/style/', 'https://www.pebblepost.com/', 'https://www.theguardian.com/us', 'https://www.mxplayer.in/', 'https://www.architecturaldigest.com/', 'https://openweathermap.org/api', 'https://www.yahoo.com/entertainment/tv/', 'https://www.vidora.com/', 'https://www.google.se/', 'https://pinsightmedia.com/solutions/onelouder', 'https://raygun.com/', 'https://www.oregon.gov/Pages/index.aspx', 'https://www.google.com.mx/', 'https://www.vonage.com/communications-apis/video/', 'https://dynamics.microsoft.com/en-us/', 'https://rollbar.com', 'https://twemoji.maxcdn.com', 'https://www.researchgate.net/', 'https://www.mcafee.com/enterprise/en-us/threat-center.html', 'https://myexternalip.com', 'https://www.colorado.edu/', 'https://publicsuffix.org', 'https://miniclip.com/games/en/', 'https://www.google.com.ua/', 'https://www.businessinsider.com/', 'https://www.evergage.com/', 'https://libsyn.com', 'https://www.newyorker.com/', 'https://robinhood.com/us/en/', 'https://www.google.ae/', 'https://www.bannerflow.com/', 'https://getadblock.com', 'https://www.google.ch/', 'https://www.bizible.com/', 'https://www.wacom.com/en-us', 'https://www.comodo.com/', 'https://swiftype.com', 'https://c1.sfdcstatic.com', 'https://www.latimes.com', 'https://products.office.com/en-us/home?rtc=1', 'https://mangatoon.mobi', 'https://www.bing.com/?FORM=UNKSBD', 'https://www.google.pl/', 'https://www.smartthings.com/', 'https://bronto.com', 'https://www.juicyads.com/', 'https://bizrate.com', 'https://brainly.co.id', 'https://britepool.com', 'https://freegeoip.app', 'https://www.who.int/', 'https://www.geo.netflix.com', 'https://trustedsource.org', 'https://www.inboxsdk.com', 'https://www.postman.com/', 'https://sg.carousell.com/', 'https://www.ubisoft.com/en-us/', 'https://adport.io', 'https://www.techtarget.com/', 'https://urekamedia.com', 'https://backend-xpress.jabra.com', 'https://squareup.com/us/en', 'https://truvidplayer.com', 'https://www.comcasttechnologysolutions.com/', 'https://bidfilter.com', 'https://log.ncaudienceexchange.com', 'https://www.google.com.bd', 'https://www.google.ie/', 'https://pluto.tv/welcome', 'https://www.researchgate.net', 'https://www.google.it', 'https://momentumdash.com', 'https://www.google.dk', 'https://mox.tv/en/', 'https://www.nettruyen.com', 'https://www.syndigo.com/', 'https://myspace.com', 'https://www.theoplayer.com/', 'https://webengage.com', 'https://www.giraffic.com/', 'https://www.datawrapper.de/', 'https://assistant.vivo.com.cn', 'https://imgbb.com/noscript', 'https://www.snapchat.com', 'https://api.huangye.miui.com', 'https://www.td.com/us/en/personal-banking/', 'https://corp.kaltura.com/', 'https://digitalguardian.com/services/managed-security-program', 'https://www.newyorker.com', 'https://www.nbcnews.com', 'https://accounts.google.com/ServiceLogin?passive=1209600&continue=https://get.google.com/albumarchive&followup=https://get.google.com/albumarchive', 'https://www.google.at/', 'https://www.google.com.ua', 'https://isi.edu', 'https://creativecommons.org', 'https://statics-marketingsites-eas-ms-com.akamaized.net/en-us/?rtc=1', 'https://www.buysellads.com/', 'https://www.shopback.com.au/', 'https://www.tenjin.com/', 'https://insstoreweb.com', 'https://www.streamrail.com/', 'https://images.costco-static.com', 'https://www.google.be/', 'https://www.usatoday.com/', 'https://staticfile.org', 'https://www.google.pl', 'https://www.who.int', 'https://snapengage.com', 'https://www.bbb.org/', 'https://www.nlm.nih.gov', 'https://s3m.nzwgs.com', 'https://hola.org/unblock/my/settings', 'https://www.datto.com/', 'https://www.adrecover.com/', 'https://hotrk0.com', 'https://www.xandr.com', 'https://www.openx.com/', 'https://www.powerreviews.com/', 'https://consumer.huawei.com/us/', 'https://online.citi.com/US/login.do', 'https://www.yahoo.com/everything/', 'https://s3m.mediav.com', 'https://www.google.ae', 'https://cdns2.gigya.com', 'https://lightstep.com', 'https://statis.facemojikeyboard.com', 'https://www.google.com/', 'https://powerbi.microsoft.com/en-us/landing/signin/?ru=https%3A%2F%2Fapp.powerbi.com%2F%3FnoSignUpCheck%3D1', 'https://www.sharefile.com/', 'https://cdn.aihelp.net', 'https://www.buzzfeed.com/', 'https://www.jetbrains.com', 'https://www.npr.org', 'https://www.google.fi/', 'https://www.siriusxm.ca/', 'https://www.clickcertain.com/landingpage/', 'https://hbr.org', 'https://www.amazon.fr', 'https://www.amazon.in/', 'https://asia-f-up.vivoglobal.com', 'https://p9-dy.byteimg.com', 'https://www.fandom.com/explore', 'https://www.telkomsel.com/', 'https://juicyads.com', 'https://www.vidoomy.com/', 'https://accounts.google.com/ServiceLogin?service=wise&passive=1209600&continue=https://docs.google.com/spreadsheets/&followup=https://docs.google.com/spreadsheets/&ltmpl=sheets', 'https://www.ally.com/', 'https://www.reuters.com/', 'https://ds.shalltry.com', 'https://www.shopback.ph/', 'https://www.groupon.com/', 'https://www.uol.com.br/', 'https://www.amazon.ca', 'https://pubgmvn.helpshift.com/a/pubg-mobile-vn/', 'https://load-balancer.likr.com.tw', 'http://popsww.com/en/', 'https://sdfjjd.nbryb.com', 'https://www.google.co.nz/', 'https://us-ucdc-upaas.ucweb.com', 'https://www.addthis.com', 'https://www.entrustdatacard.com/', 'https://proximity.cisco.com', 'https://triggeredmail.appspot.com', 'https://www.myfinance.com/', 'https://www.avantisvideo.com/', 'https://marketingplatform.google.com/about/surveys/', 'https://www.google.se', 'https://cookpad.com/us?via=jp', 'https://www.globalwebindex.com/', 'https://www.scribd.com/', 'https://tx2.a.yximgs.com', 'https://www.google.ch', 'https://www.google.hu/', 'https://www.kompasiana.com/', 'https://adups.com/index.php', 'https://styleguide.brainly.co.id/161.3.0/docs/', 'https://www.mathjax.org/', 'https://www.flexera.com/products/operations/software-vulnerability-research/secunia-research.html', 'https://www.acer.com/ac/en/US/content/home', 'https://us.norton.com', 'https://beacon.riskified.com', 'https://ucads.ucweb.com/static/sso/pages/intersso.html?authorizeUrl=https%3A%2F%2Fucads.ucweb.com%2Fsso%2Fv1%2Fauthorize%3Fresponse_type%3Dcode%26scope%3Dopenid%26client_id%3DeyJhbGciOiJBMTI4S1ciLCJjdHkiOiJKV1QiLCJlbmMiOiJBMTI4Q0JDLUhTMjU2In0.UJFEDXavayNaFVjNOhbrTz-X-2qGDeAzqG9Xxyw8NE-hxL_TxUu4Pw.V6PphmdlrgE_uCVdQuc-ZA.GxU3GhJCPaXkqii1_As5k4V3cPnQ3dO92weEdqXQXfH2dVXSbEesvh_oBv8x67eAR_MJqxacwZv2YjyFmLzVTikXE_Zc18ISO67kADEPlsHVyEvl93MY2b82-odK1ssfT0ZDCmx8VW11VpY5G7w0cptuPZjry-3QbBGzOzyiyudSMcZvm_ZxDj5ugbjsDIy_5k_eMbT5T6qyc0F1XMozUzwNQn9YCs9fiyBJt1xHv9UsCQB26KP9fU0dBak6sP1OnuM6EfetsGXz5xiXYQxP2jM6sClN4JezKz6CHGyy8KZW6bl_j4G_8D2neJyoTCVKlseMiSln4EMwlh-cdRlhDoq7J66OC1t4m3SzrprUwfa8wxVHT4Ql4mYTlH4Vmq7Vs0kiay9wHp64AcgQa0f0qsdiBgz7vcJ1N5Svj4d-K2DhgfB02ZQwCzWpgfBUz18FRjgQW8pirmqEUhEtmFft4sTubmr0HzzqGdLnkup7IREuQyHoDeuAUfoSBDgH_HvUiOVVzPGuzN18AddORWmCRcW4XXHEzLkQiXGPLTvjTKJ0FQsMnrDsQV_4yUKPP8aT0cNCUhJBtF0lV2Uyav0cgmr9RyWjnMDBqIVb4LiuV_jgozQt3QG1TgCKhhhsBimpneTOFQ9FG0ZaPEJ5zHmK1ogPplylPDiuh4EHf8MupYmdYndHb-WCScij9zu0EuVSi3mOeiu_zw3DVQC_a6yP0leIzFAYTPdHB-XZbFLUJGI.XjplQ5uSXUmeOQu253CoiQ%26redirect_uri%3Dhttps%3A%2F%2Fucads.ucweb.com%2Fuc%2Fsso_auth_code%26target_url%3Dhttp%3A%2F%2Fucads.ucweb.com%2Fuc%2F%3FisFromPortal%3D0', 'https://www.spiceworks.com/', 'https://www.google.ro/', 'https://vidmate.net', 'https://www.popads.net/', 'https://www.google.co.za/', 'https://www.xiaohongshu.com:443/', 'https://ionicframework.com', 'https://4dsply.com', 'https://www.google.pt/', 'https://www.google.com.mx', 'https://www.wellsfargo.com', 'https://www.khanacademy.org/', 'https://www.bing.com/', 'https://ally.ac', 'https://www.openstreetmap.org/', 'https://wordpress.com/typo/?subdomain=lb', 'https://www.lynda.com/', 'https://www.google.no/', 'https://www.slideshare.net/', 'https://www.affirm.com', 'https://cdns3.gigya.com', 'https://www.belkin.com/us/', 'https://concert.io', 'https://poweredby.jads.co/404.txt', 'https://help.twitter.com/en?lang=browser', 'https://www.usps.com', 'https://www.google.com.ar/', 'https://www.ziffdavis.com', 'https://secure.espn.com', 'https://www.forbes.com', 'https://deduce.com', 'https://pushnami.com', 'https://widgets.mgid.com', 'https://static.wellsfargo.com/accounts/static/webassets/unavailable/temporarily_unavailable.html', 'https://webvisor.com', 'https://www.google.gr/', 'https://www.virustotal.com/old-browsers/', 'https://code.ionicframework.com', 'https://radar.io', 'https://video.foxnews.com', 'https://www.tableau.com/', 'https://www.disneyplus.com/', 'https://www.jimdo.com/', 'https://short.im-gb.com', 'https://delidatax.net', 'https://www.scotiabank.com/global/en/global-site.html', 'https://www.hbo.com/', 'https://khoros.com/', 'https://www.ncbi.nlm.nih.gov/', 'https://www.bankofamerica.com', 'https://freshdesk.com', 'https://www.gameloft.com/en/', 'https://ph.yahoo.com', 'https://malaysia.yahoo.com', 'https://www.shareaholic.com', 'https://www.bmo.com/main/personal', 'https://www.cibc.com/en/personal-banking.html', 'https://zillowgroup.slack.com/?nojsmode=1', 'https://bidmachine.io', 'https://accounts.google.com/ServiceLogin?service=print&passive=1209600&continue=https://www.google.com/producer&followup=https://www.google.com/producer', 'https://www.klikbca.com/', 'https://track.adstack.co', 'https://www.duolingo.com/nojs/splash', 'https://www.vilynx.com', 'https://www.workspot.com/', 'https://adsblock.org', 'https://www.benevity.com/', 'https://www.indiatimes.com/', 'https://www.zemana.com/', 'https://www.icicibank.com/', 'https://www.fyber.com/', 'https://www.signifyd.com/', 'https://trckalyticlng.com', 'https://adfly.vn', 'https://api.trckalyticlng.com', 'https://www.w3.org/', 'https://www.webtoons.com/en/', 'https://www.investing.com/', 'https://smusic.app.wechat.com', 'https://support.mozilla.org/en-US/kb/canary-domain-use-application-dnsnet', 'https://photobucket.com', 'https://www.cnet.com/', 'https://www.bankofamerica.com/?TYPE=33554433&REALMOID=06-000aea23-f082-1f06-b383-082c0a2840b5&GUID=&SMAUTHREASON=0&METHOD=GET&SMAGENTNAME=-SM-aqqfzgjeqy8S5m8u%2b8h6gZjIC5XifZeAeb5F64xMRkTo1mmai3SO2HDPyq%2bg0LdA&TARGET=-SM-https%3a%2f%2fsecure%2ebankofamerica%2ecom%2f', 'https://hybrid.ai', 'https://rarbg.to/index80.php', 'https://ds-global3.l7.search.ystg1.b.yahoo.com', 'https://community.fandom.com/wiki/Community_Central:Not_a_valid_community?from=wikia-services.com', 'http://www.msn.com/?redirfallthru=https%3a%2f%2fmsn.net%2f%3f', 'https://www.tempo.co/', 'https://www.amazon.it/', 'https://schemas.casa', 'https://www.commbank.com.au/', 'https://flipboard.helpshift.com/a/flipboard/?p=web', 'https://www.hubspot.com/abuse-complaints', 'https://srinapps.com', 'https://mandrillapp.com/login/?referrer=%2F', 'https://www.amazon.co.uk', 'https://www.docusign.com/', 'https://ww2.glance.net/', 'https://consent.yahoo.com/collectConsent?sessionId=2_cc-session_4687d77a-8db2-4485-9f16-a515f98c7732&lang=en-GB&inline=false', 'https://www.9apps.com/', 'https://chaturbate.com', 'https://adguard.com/en/welcome.html', 'https://www.webs.com/', 'https://www.cisco.com/c/en/us/about/corporate-strategy-office/acquisitions/ironport.html', 'https://www.bignox.com/', 'https://www.xbox.com:443/en-US/xbox-game-pass', 'https://www.amazon.es/', 'https://www.pushengage.com/', 'https://www.53.com/', 'https://ca.yahoo.com', 'https://accounts.google.com/ServiceLogin?hl=en&continue=https%3A%2F%2Fwww.youtube.com%2Fsignin%3Fhl%3Den%26next%3Dhttps%253A%252F%252Fstudio.youtube.com%252F%26app%3Ddesktop%26feature%3Dredirect_login%26action_handle_signin%3Dtrue&passive=true&service=youtube&uilel=3', 'https://www.futureplc.com', 'https://clearbit.com', 'https://github.com/login?client_id=2780eb96d3834a26ebc2&return_to=%2Flogin%2Foauth%2Fauthorize%3Fclient_id%3D2780eb96d3834a26ebc2%26scope%3Dread%253Aorg%26state%3DMTU4NzEzODg4OHx3YlpUVXRHS01YVzZ2LTQxN1hCRkxVcF9XMUh4TzBQS0xuZmNZV1R6dVQtUnlnS3RYempPd3FKdkt2UXdLa09nLTBnODR1QT18Ooq_IJOr76ZAj0gGT8TqsIUNT-3IvAgQKwyw9uICjcA%253D', 'https://nsone.net', 'https://www.liputan6.com/', 'https://www.channelnewsasia.com/', 'https://data.hackerwatch.org', 'https://apester.com', 'https://www.maxmind.com/en/home', 'https://web.seesaw.me/', 'https://smile.amazon.com/ap/signin/137-4883908-3461803?_encoding=UTF8&openid.assoc_handle=amzn_smile&openid.claimed_id=http%3A%2F%2Fspecs.openid.net%2Fauth%2F2.0%2Fidentifier_select&openid.identity=http%3A%2F%2Fspecs.openid.net%2Fauth%2F2.0%2Fidentifier_select&openid.mode=checkid_setup&openid.ns=http%3A%2F%2Fspecs.openid.net%2Fauth%2F2.0&openid.ns.pape=http%3A%2F%2Fspecs.openid.net%2Fextensions%2Fpape%2F1.0&openid.pape.max_auth_age=0&openid.return_to=https%3A%2F%2Fsmile.amazon.com%2Fgp%2Fcharity%2Fhomepage.html%2F137-4883908-3461803%3Fie%3DUTF8%26newts%3D1%26orig%3DLw%253D%253D', 'https://www.bloomberg.com/tosv2.html?vid=&uuid=f323f720-80c3-11ea-bc57-233c36a08fb2&url=Lw==', 'https://useinsider.com/', 'https://www.ayobandung.com/', 'https://g.co', 'https://car-cloud-cn.net', 'https://account.dyn.com/', 'https://www.businessinsider.com', 'https://smartasset.com', 'https://www.itau.com.br/', 'https://www.lowes.com/', 'https://wetransfer.com', 'https://worldnic.com', 'https://m.facebook.com/?_rdr', 'https://iqoption.com', 'https://gop1.co', 'https://www.ably.io/', 'https://gumgum.com/', 'https://www.honeywell.com/', 'https://admob.google.com/home/', 'https://fidelity-media.com', 'https://www.giraff.io/', 'https://www.adpushup.com/', 'https://edition.cnn.com', 'https://www.axisbank.com/', 'https://www.bluebeam.com/', 'https://www.hubspot.com', 'https://he.net', 'https://www.qiscus.com/', 'http://www.groovinads.com/en', 'https://www.tiaa.org/public/index.html', 'https://motd.ubuntu.com', 'https://www.kompas.com', 'https://weather.com/', 'https://www.media.net/?host=138105638.keywordblocks.com', 'https://junggglex.com', 'https://www.ing.com/Home.htm', 'https://statics-marketingsites-eus-ms-com.akamaized.net/en-us/?rtc=1', 'https://p26-dy.byteimg.com', 'https://www.bestbuy.com/', 'https://www.knowbe4.com/', 'https://survicate.com', 'https://us.yahoo.com', 'https://en.savefrom.net/11/', 'https://www.oregonlive.com/', 'https://vizury.com', 'https://search.yahoo.com/yhs/?hspart=itm&hsimp=yhs-001', 'https://www.sonicwall.com/', 'https://www.channeladvisor.com/', 'https://www.credit-agricole.fr/', 'https://www.santander.com.br/', 'https://republer.com', 'https://www.terra.com.br/', 'https://ie11fre.microsoft.com', 'https://subiz.com', 'https://www.udemy.com/static/upgrade-your-browser/', 'https://www.bukalapak.com', 'https://quickconnect.to', 'https://www.unrealengine.com/en-US/', 'https://www.barclays.co.uk/', 'https://corporateportal.brazil.citibank.com/index.htm', 'https://flourish.studio', 'https://www.iana.org/', 'https://onedrive.live.com', 'https://mabanque.bnpparibas', 'https://www.nab.com.au/', 'https://www.deutsche-bank.de/pk.html', 'https://www.nike.com/', 'https://server.arcgisonline.com/arcgis/rest/services', 'https://accounts.google.com/ServiceLogin?passive=1209600&osid=1&continue=https://admin.google.com/&followup=https://admin.google.com/', 'https://www.amazon.com.au/', 'https://www.box.com', 'https://www.marketwatch.com', 'https://www.callrail.com/', 'https://www.photonengine.com/', 'https://www.marcopolo.me', 'https://www.apusapps.com/en/', 'https://auth0.com', 'https://www.amazon.de', 'https://www.dynatrace.com/', 'https://www.unicredit.it/it/privati.html', 'https://www.webtrends.com/', 'https://clientlog3.music.163.com', 'https://m.vk.com/badbrowser.php', 'https://nypost.com', 'https://www.anz.com.au/personal/', 'https://au.yahoo.com', 'https://hsbc.com.br/bridge/pages/list.jsp', 'https://javhd.com/en', 'https://www.privy.com/', 'https://na.wargaming.net/en/', 'https://www.voxmedia.com/a/vm', 'https://autoads.asia', 'https://os.tc', 'https://m.ayobandung.com', 'https://appdl2.dbankcdn.com/', 'https://pagseguro.uol.com.br', 'https://netcore.co', 'https://www.zendesk.com/help-center-closed/?utm_content=p20.zdassets.com&utm_source=helpcenter-closed&utm_medium=poweredbyzendesk', 'https://www.thestar.com.my/', 'https://domains.google/', 'https://dnsmadeeasy.com', 'https://helpx.adobe.com/support.html', 'https://n25.meraki.com/login/dashboard_login?go=%2F&sh=25', 'https://consent.yahoo.com/collectConsent?sessionId=2_cc-session_bf0abb40-39b1-4f5c-9304-c5a8ab5bf210&lang=fr-FR&inline=false', 'https://www.cetelem.com.br/home', 'https://impactify.io', 'https://www.glassdoor.ca/index.htm', 'https://cms.csw.lenovo.com/en', 'https://www.babybus.com/', 'https://www.firstimpression.io/', 'https://banco.bradesco/html/prime/', 'https://www.conversantmedia.com/legal/privacy', 'https://www.wps.com/store/', 'https://superads.cn', 'https://www.powr.io/', 'https://mediav3.inq.com', 'https://ac.dun.163yun.com', 'https://www.gainsight.com/product-experience/', 'https://gamegamb.com', 'https://m.vidio.com', 'https://www.myfitnesspal.com/', 'https://www.mgid.com', 'https://www.helpscout.com/', 'https://www.mailmunch.com/', 'https://br.yahoo.com', 'https://espanol.yahoo.com', 'https://www.home.neustar/dns-services', 'https://pinsightmedia.com', 'https://qc.yahoo.com', 'https://consent.yahoo.com/collectConsent?sessionId=2_cc-session_fb64cb5f-16a2-4d28-8f23-f7012a3e907b&lang=ro-RO&inline=false', 'https://bitbucket.org', 'https://www.attentivemobile.com/', 'https://services.arcgisonline.com/arcgis/rest/services', 'https://appresource.line-scdn.net', 'http://www.caixa.gov.br/Paginas/home-caixa.aspx', 'https://consent.yahoo.com/collectConsent?sessionId=2_cc-session_4a41998a-e90a-43dc-9e6f-92a79c9f03fc&lang=es-ES&inline=false', 'https://us.search.yahoo.com', 'https://consent.yahoo.com/collectConsent?sessionId=2_cc-session_68824be5-01ed-42fd-bc76-356aef89fd14&lang=de-DE&inline=false', 'https://consent.yahoo.com/collectConsent?sessionId=2_cc-session_f538944c-1f70-464e-bfc0-9d27906421a0&lang=nl-BE&inline=false', 'https://fr.glassdoor.ca/index.htm', 'https://consent.yahoo.com/collectConsent?sessionId=2_cc-session_7fb87b77-7e75-4225-8d77-4bd5f9c9cc10&lang=sv-SE&inline=false', 'https://apache.org', 'https://www.vmware.com/products/workspace-one/intelligence-consumer-apps.html', 'https://consent.yahoo.com/collectConsent?sessionId=2_cc-session_a26bfd00-af8e-409c-b13c-50457c572c2d&lang=en-IE&inline=false', 'https://consent.yahoo.com/collectConsent?sessionId=2_cc-session_b86be8ba-e0fe-494b-9d23-f50c4fc35d88&lang=nl-BE&inline=false', 'https://ff.garena.com', 'https://nz.yahoo.com', 'https://m.facebook.com/?refsrc=https%3A%2F%2Fapps.facebook.com%2F&_rdr', 'https://gameloop.fun', 'https://consent.yahoo.com/collectConsent?sessionId=2_cc-session_79ca4437-12b7-46d8-be35-d05d0ec82487&lang=it-IT&inline=false', 'http://www.safesecurityapps.com/en-us', 'https://accounts.google.com/ServiceLogin?passive=1209600&osid=1&continue=https://chat.google.com/&followup=https://chat.google.com/', 'https://web.wurfl.io/', 'https://consumable.com', 'https://webpick-cdn.s3.us-west-2.amazonaws.com', 'https://www.ibm.com/us-en/?ar=1', 'https://iflow.uczzd.cn', 'https://tw.netcore.co.in', 'https://analytics.podtrac.com/', 'https://en-maktoob.yahoo.com', 'https://en-maktoob.yahoo.com/?p=xa', 'https://adview.com', 'https://za.yahoo.com', 'https://www.endclothing.com/us/', 'https://neilpatel.com/', 'https://kuaishouzt.com', 'https://rncdn7.com', 'https://api.kuaishouzt.com', 'https://quickbooks.intuit.com/', 'https://www.ematicsolutions.com/', 'https://glympse.com', 'https://www.ncaudienceexchange.com/about/', 'https://info.zotabox.com/', 'https://1password.com', 'https://www.arin.net/', 'https://www.amazon.com.mx/', 'https://www.bigo.tv/', 'https://bilsyndication.com', 'https://www.abtasty.com/', 'https://js.pusher.com', 'https://apia.headlines.pw', 'https://offer.alibaba.com', 'https://www.waves.com/', 'https://clinch.co', 'https://www.pixiv.net/en/', 'https://www.caixabank.es/index_es.html', 'https://officeci.azurewebsites.net', 'https://xhamster.com', 'https://torrent.eu.org', 'https://accounts.autodesk.com', 'https://choozle.com', 'https://iterable.com', 'https://wkctj.baidu.com', 'https://www.playwire.com/', 'https://www.sphdigital.com/', 'https://www.flipkart.com/', 'https://www.realtor.com/', 'https://radio.foxnews.com', 'https://tracker.torrent.eu.org', 'https://cdn.connectad.io', 'https://tummy.com', 'https://txmov2.a.yximgs.com', 'https://www.amazon.com.br/', 'https://app.seesaw.me', 'https://static-spartan-eus-s-msn-com.akamaized.net', 'https://www.thomsonreuters.com/en.html', 'https://www.zoom.us', 'https://www.telerik.com/', 'https://harry.lu', 'https://cbsinteractive.com', 'https://www.hipwee.com/', 'https://www.verizonmedia.com/policies/index.html', 'https://www.noip.com/', 'https://www.vpngate.net/en/', 'https://www.profitwell.com/', 'https://reco.v-mate.mobi', 'https://ad-maven.com', 'https://www.omegle.com/', 'https://www.resonate.com/', 'https://www.bloomberg.com/tosv2.html?vid=&uuid=a72b5910-80c5-11ea-a4eb-29875d8b8374&url=L2FjY291bnQvc2lnbmlu', 'https://api.tw06.xlmc.sec.miui.com', 'https://www.ibm.com/cloud', 'https://5b0988e595225.cdn.sohucs.com', 'https://adc-api-19-node.herokuapp.com', 'https://www.nextadvisor.com/', 'https://www.huffpost.com/', 'https://ninite.com', 'https://www.sony.com:443/', 'https://clear.aminopay.net', 'https://adserver.juicyads.com/404.txt', 'https://pages.lazada.co.id', 'https://www.wayfair.com', 'https://js2.a.yximgs.com', 'https://boldcommerce.com', 'https://pay.amazon.com/', 'https://www.printfriendly.com/', 'https://clientlog.music.163.com', 'https://www.sirdata.com/privacy/', 'https://www.ecorebates.com/', 'https://jsmov2.a.yximgs.com', 'https://www.cnnindonesia.com/', 'https://cloudinary.com', 'https://www.qualcomm.cn', 'https://www.register.com/', 'https://www.ibm.com/security/fraud-protection/trusteer', 'https://ads.twitter.com/login', 'https://www.youappi.com/', 'http://press.foxnews.com/', 'https://addelivery-engine-api.voodoo-ads.io', 'https://public.tableau.com/s/', 'https://mediavoice.com/login/?next=/', 'https://bdbus-turbonet.baidu.com', 'https://www.suara.com', 'https://soomla.com/', 'https://events.lbesecapi.com', 'https://supplierdiversity.foxnews.com', 'https://search.yahoo.com/', 'https://www.aliexpress.com', 'https://www.insticator.com', 'https://www.contentful.com/', 'https://news.detik.com', 'https://clever.com', 'https://www.starbucks.com/', 'https://hansel.io', 'https://mps.cnbc.com/index.php/sitechooser', 'https://signal.org/', 'https://spotad.co', 'https://www.th.giraff.io/', 'https://www.mineplex.com/home/', 'https://browser-update.org/update.html', 'https://help.foxnews.com/hc/en-us', 'http://parseplatform.org', 'https://www.lytics.com/', 'https://www.redfin.com/', 'https://www.quickbase.com/?host=quickbase.com', 'https://s3m3.nzwgs.com', 'https://www.classdojo.com/', 'https://shop.foxnews.com', 'https://sumo.com/', 'https://www.advance.com/', 'https://offerlink.net', 'https://usa.visa.com/', 'https://b0e8.com', 'https://txmov3.a.yximgs.com', 'https://dictionary.cambridge.org', 'https://www.crossinstall.com/', 'https://conductrics.com', 'https://api.kwaizt.com', 'https://cloud.google.com', 'https://infeed.id', 'https://kwaizt.com', 'https://m.alibaba.com', 'https://accesstrade.co.id', 'https://txdwkmov.a.yximgs.com', 'https://pages.lazada.vn', 'https://www.edwinksl.com', 'https://pantheon.io', 'https://kendo.cdn.telerik.com', 'https://www.prakerja.go.id/', 'https://www.ssl.com/', 'https://vsco.co', 'https://account.jetbrains.com/login', 'https://sensors.snappea.com', 'https://foxcareers.com', 'https://apm.music.163.com', 'https://trafmag.com', 'https://www.mediacorp.sg/en/', 'https://onetag-geo-grouping.s-onetag.com', 'https://t.offerlink.net', 'https://www.razer.com/', 'https://www.mql5.com/', 'https://siteplug.com', 'https://www.healthline.com/', 'https://www.blackberry.com/us/en', 'https://camscanner.com', 'https://richaudience.com/en/', 'https://b612.snow.me/', 'https://www.sling.com/', 'https://www.vuble.tv/us/', 'https://www.vuble.fr/fr/', 'https://www.ncr.com/banking/digital-banking', 'https://uribl.com', 'https://apm3.music.163.com', 'https://videojs.com', 'https://www.coveo.com/en', 'https://inshotapp.com', 'https://www.w3schools.com/', 'https://slickdeals.net', 'https://vuukle.com', 'https://v.admaster.com.cn', 'https://ro.up.vivoglobal.com', 'https://startssl.com', 'https://www.carbonads.net/', 'https://www.instructure.com/canvas/?newhome=canvas', 'https://websdk.appsflyer.com', 'https://queryly.com', 'https://www.booking.com', 'https://www.ringcentral.com', 'https://www.maxthon.com/', 'https://6gpwkrxh.micpn.com', 'https://www.mantisadnetwork.com/', 'https://tealeaf-us-2.goacoustic.com/webapp/login', 'https://scs-hcdn.iqiyi.com', 'https://www.cbs.com/', 'https://getsitecontrol.com', 'https://www.straitstimes.com/global', 'https://lbsg.net', 'https://www.samanage.com/', 'https://www.arkoselabs.com/', 'https://us02web.zoom.us', 'https://hextom.com', 'http://www.kwai.com/', 'https://www.bentley.com/en', 'https://www.pique.ai', 'https://theexplorers.com/landing', 'https://zj.dcys.ksmobile.com', 'https://www.behance.net', 'https://convertkit.com', 'https://zoomd.com', 'https://txmov2.a.kwimgs.com', 'https://www.tapdaq.com/', 'https://infura.io', 'https://www.justuno.com/', 'https://www.marketwatch.com/?siteid=mktw', 'https://drp.su/en', 'https://nt.vc/de/home/', 'https://www.npmjs.com/', 'https://static-redesign.cnbcfm.com', 'https://responsivevoice.org', 'https://elephant.likr.com.tw', 'https://nam02.safelinks.protection.outlook.com', 'https://muymov.a.yximgs.com', 'https://www.rnengage.com', 'https://login.live.com/login.srf?wa=wsignin1.0&rpsnv=13&ct=1587140344&rver=7.1.6819.0&wp=MBI_SSL&wreply=https%3A%2F%2Flw.skype.com%2Flogin%2Foauth%2Fproxy%3Fsite_name%3Dlw.skype.com&lc=1033&id=293290&mkt=en-US&psi=skype&lw=1&cobrandid=2befc4b5-19e3-46e8-8347-77317a16a5a5&client_flight=ReservedFlight33%2CReservedFlight67', 'https://msmov.a.yximgs.com', 'https://lagu123.top', 'https://api.lbesecapi.com', 'https://www.hsbc.com.hk/', 'https://jscm.a.etoote.com', 'https://www.jd.id/', 'https://ucmov.a.yximgs.com', 'https://www.barrons.com', 'https://sso.canvaslms.com/login/canvas', 'https://www.sanook.com/', 'https://be.moresatisfied.com', 'https://moresatisfied.com', 'https://zohopublic.com', 'https://gist.github.com/discover', 'https://www.academia.edu/', 'https://v2assets.zopim.io', 'https://www.viktvaktarna.se/se/', 'https://www.creditkarma.com/', 'https://blazing.de', 'https://hk.news.yahoo.com', 'https://smallpdf.com', 'https://a.b0e8.com', 'https://adsolut.in', 'https://devspaces.skype.com', 'https://www.vidyard.com:443/', 'https://txdwk.a.yximgs.com', 'http://video.yahoo.net/', 'https://licensebuttons.net', 'https://www.yahoo.com/entertainment/celebrity/', 'https://accounts.intuit.com/index.html', 'https://www.syncplicity.com/en', 'https://apkpure.com', 'https://txmov6.a.yximgs.com', 'https://www.sap.com/products/human-resources-hcm.html', 'https://qoe-1.yottaa.net', 'https://adnuntius.com', 'https://blocklists-settings.prod.mozaws.net', 'https://getbutton.io', 'https://rakutenadvertising.com', 'https://www.zendesk.com/help-center-closed/?utm_content=p20.zdusercontent.com&utm_source=helpcenter-closed&utm_medium=poweredbyzendesk', 'https://www.redhat.com/en', 'https://monitor1.returnpath.net/login.php', 'https://www.tidio.com/', 'https://proper.io', 'https://www.acronis.com/en-us//promo/update-your-browser/index.html', 'https://www.genpi.co/', 'https://opensharecount.com', 'https://api.ua.com', 'https://www.insider.com/', 'https://bdcmmov.a.etoote.com', 'https://crisp.chat/en/', 'https://www.fidelity.com/', 'https://bdcm.a.etoote.com', 'https://adkmob.jp', 'https://telegram.org/', 'https://bridgetrack.com', 'https://wetv.vip/', 'https://business.facebook.com', 'https://p26-tt.byteimg.com', 'https://www.reddit.com', 'https://www.rakuten.com', 'https://9gag.com', 'https://anyclip.com', 'https://www.ultimatesoftware.com', 'https://jscmmov.a.etoote.com', 'https://www.wikihow.com/Main-Page', 'https://www.npr.org/api/index', 'https://seal.digicert.com', 'https://tools.usps.com/go/TrackConfirmAction_input', 'https://bdmov.a.yximgs.com', 'http://www.sdkbox.com', 'https://www.cbssports.com/', 'https://www.toponad.com/', 'https://firebase.google.com/', 'https://www.officedepot.com/', 'https://activity.wps.com', 'https://www.dictionary.com/', 'https://www.cnbcindonesia.com/', 'https://upravel.com', 'https://www.y2mate.com/en43', 'https://txcmmov.a.etoote.com', 'https://www.ibizads.com/', 'https://www.smartlook.com/', 'https://www.niceincontact.com/', 'https://easylist.to', 'https://onavo.com', 'https://www.proofpoint.com/us/wombat-security-is-proofpoint', 'https://chartable.com/about?utm_source=trackable', 'https://www.jhu.edu/', 'https://pubstack.io', 'https://shoofle.tv/index.html', 'https://xhamsterlive.com', 'https://www.mcafeemobilesecurity.com/error.aspx?reason=browser', 'https://postimages.org/', 'https://www.cbsnews.com/', 'https://www.arup.com/', 'https://www.cyberark.com/', 'https://www.i-click.com/', 'https://transmissionbt.com', 'https://www.amazon.nl/', 'https://simejiglobal.com', 'https://www.corel.com/en/', 'https://kumparan.com', 'https://www.turntonetworks.com/', 'https://developers.google.com', 'https://www.pepperjam.com/', 'https://transacme.com', 'https://m.facebook.com/?refsrc=https%3A%2F%2Fvi-vn.facebook.com%2F&_rdr', 'https://www.agora.io/en/', 'https://thumb-lvlt.xhcdn.com', 'https://prebid-server-perf.rubiconproject.net.akadns.net', 'https://www.appier.com:443/', 'https://www.queryly.com', 'https://gsuite.google.com', 'https://www.grammarly.com/browsers', 'https://www.adview.com/', 'https://www.overdrive.com/', 'https://www.yelp.com', 'https://keff.org', 'https://metrolagu.vip', 'https://www.uber.com', 'https://www.usa.gov/', 'https://cdns.eu1.gigya.com', 'https://www.pingidentity.com/en.html', 'https://location.services.mozilla.com', 'https://bdskmov.a.yximgs.com', 'https://www.extremenetworks.com/', 'https://www.infinitynewtab.com/', 'https://captcha.com', 'https://sift.com', 'https://www.videoder.com/', 'https://www.elsevier.com/', 'https://inside-graph.com/login/', 'https://www.skype.com/en/unsupported-browser/', 'https://webpush.wx.qq.com', 'https://newclient.map.baidu.com', 'https://www.oneplus.com/', 'https://corp.narvar.com/', 'https://www.themoneytizer.com/', 'https://www.zendesk.com/connect/', 'https://sonar.fedex.com', 'https://www.viddler.com/', 'https://accounts.google.com/ServiceLogin?passive=1209600&osid=1&continue=https://console.firebase.google.com/project/api-project-652995075284/database/data/&followup=https://console.firebase.google.com/project/api-project-652995075284/database/data/', 'https://tinyurl.com', 'https://a.fxltsbl.com', 'https://www.crashplan.com/en-us/', 'https://dt.netease.im', 'https://bbdata.babybus.com', 'https://www.gmx.net/', 'https://www.classpolicy.com/', 'https://classpolicy1.classpolicy.com/Login.aspx', 'https://www.bittitan.com/', 'https://clashroyale.com', 'https://m.liputan6.com', 'https://omnycontent.com/learn', 'https://www.omnycontent.com/learn', 'https://cas.mioffice.cn/login?service=https%3A%2F%2Fadmin.jupiter.intl.sys.miui.com%2F', 'https://www.aptoide.com:443/', 'https://www.wsj.com', 'https://www.popads.net/app/webroot/', 'https://infogram.com', 'https://amberweather.com', 'https://www.netflix.com', 'https://federation.intuit.com/as/authorization.oauth2?response_type=code&client_id=pa_wam&redirect_uri=https%3A%2F%2Fspinit.sso.intuit.com%2Fpa%2Foidc%2Fcb&state=eyJ6aXAiOiJERUYiLCJhbGciOiJkaXIiLCJlbmMiOiJBMTI4Q0JDLUhTMjU2Iiwia2lkIjoibDQiLCJzdWZmaXgiOiI2eVJGSFAuMTU4NzE0MTI0NiJ9..ajbS21_q9Lapkll44U7HMA.KyeBsxui1uNYDqvu275QloiKKIEr-QAVHfyqwVyLXWpwg8D5jvbW4UWv_BIoIO-1eIup6alnm5HdBHkLLK-JW-1e3SMVlzUPYlA0ITEQ_6A0qFWqt9-BVssKPdgfgGkxXdhr9IUexYWdHU7H9XNiD1k2bHs3GFp3krcoEwETCzOdtITBH-yuFAFsS895GEdn9000g1pWgugbt3Oeauh8Sb1beAdp9Jusja7UBQ6JLzv0gBkpcITYIOc68FewvLDHlB2Cc_lUKXipfZfdkaHYTDXPLketYPJlD6c7dcf0wv6FaSsy7bj2rfCkPfS61TfRH7uq2kH5DKsqnPTNYh8pld1wYUTE5Qcpd0oYwAXNHhyacJQDnhUSI2TEbvfeenq8VUL5BsOdnwBaT0dNLjYpNM8uq0nSmerVCZfEWJGLPOCAOtCstQ0hlB85b6t1AW1-xApS6Lc_FvYUi7o9hD7E5yC0H2A-GPEQ-9QzvBXONuY7bTK6m9VG9P80bzPrUT0Aa7OLK3rNGnSVcCOEznoV40NTLx3iDQfR8fCR_kU_FnVRG6vQwsi0H2yGxgNkakm0YUibuNe43rnUDWB9V9EqZV8AusL0HmH-SbMlW6lb72lD78WcpcNM2DzIVhVKXAdxXbOm1BMQsupFF2pUdEI256D9ISfj3ZMjCVhGWrqIOJxi0BDWykzYUf2gRYnfV2GIeE87M9BiZdVhaFrBKo2MjEtNchuTUaA6WQaQdXaICaURdUj1yjIpquqWDAOmGlv9hlP1jTRBtTFsqKciQurfYwDrnl5oRcIllNy7DOzwKsT-Wm8qTmJG_R5I0xRZobD4NY-ComO21PJ1NOhmS866cK1FItMvxthQruuYyiWzEZ-neYxh7n3z7V9NWr4Fpwk9vEkBkH6aTs763-KyOeSa0CUXzMElG477jRRXdv4x174EAWhjiP0nWTE8ku1vc7bHUt7-K8ne2x8O-BSClmgD-9MXU8go4nJlQFJbNOd-bIWJx-NRNP609m6MCUMTBibNFnBHnYwBUbvVfVIC4vPoKU0TVoDTzjMyvDqA_PwaCy-xskmVLE65dJkWQX7SFB_nOhr5z_8X4t0n77Rp6c4sCwb3Lr9IGfjeX8cPfT-UpZVWfROOVF3eNm5LnS5BMRCz0CImgtRqzryAuf18MvxOcHMSnQlxJK0w49IkEDcQ2_zBCMfNuWBvSz4KlA-WaVooqYlhi8w5joHsYYldR8IgNChUg8oT5efTlox8SbEHAuRBwWyManTHl2QQ74IncHGGxkYppfhonyHtsGZMK-WmVBqX_V3UprW6TAEMYmoi70dTHeTu6EpA3c1gaVdwJ15lE4rn-8iTEWW7KPnNsfr9LQUFUfS77JDnH_dmsCJVOuIbLznbSt6lP6DzMLcKiYDe5cXztPcBUhY0B3nv3HpwoDotxM1zjK2HpxOH92Z5HzhKZawmr-SFRrbUNoA3Nvve8vXm15Ia8CGmwuGRaVAoVmIys1O57--tek1UhsxYqCKdiCCvTeWfW6JwX10EcNbtlUCAjbBgGKwsC7PQSY2bUpZMln82VuutozPosLkxyR_rru-P0KZ7vIY9lByURZ96bEXcLd-dsj0dlGSiDo6CEERi-F_GeBiGNoAUXloZhaEcKbYJCq1exQ_yG3O39QW2-9fYbh_U4ZhBGx6Da8yMRbEYe9ktUJY4mw_fbH-1yAg.4tVUf6IKGSbhqMT2dRZJvw&nonce=_Pwdm9sPNegcBKww1TG9DQjSsNGL_f_cqK2w_Kx3UJs&scope=openid%20address%20email%20phone%20profile&vnd_pi_requested_resource=https%3A%2F%2Fspinit.sso.intuit.com%2Fspentry.jsp%3FSAMLRequest%3DjZJdc6owEIb%252FCpN7aQhqlSl2UFRAsVKoVW86QFHDR4JJQOmvP7SezvTcdM7O7EWyu%252B%252B7kzwPj9cil%252BqEcUyJDhQZAikhMX3H5KiDl2DWGYDH0QMPi7zUjEqcyHNyrhIupHaOcO2roIOKEY2GHHONhEXCNRFrvuEuNSRDrWRU0JjmQDI4T5hojSaU8KpImJ%252BwGsfJy%252FNSBychSq7d3WEiKiwiFMlFI%252FMwT%252FiBsjiRY1o8cqpDaGJ4iy2HKZDMdhlMQvG1%252F7cILzHBQuacyje9z%252FH2NiGCNXLKSyDZpg7e0MRoY2vvF3W6caeDi4voxTWNz%252BwGMFM%252Byyox89wMvEVtr%252FYQLY4f9T6Njt5gcF64yhkrDKdZUzQ8cy5D%252B3WtIu%252BJBdPtYVjM0LIarnsFR7Y%252FHSNL1KiYWZGVjgeO0yd5YwcTbnXrdYDKkw0FrA5Br%252FthjO3tamN5s7m%252F2nXPA6VZvU4zx0jO6ZY2PV9l8zh18EZdpMaxlzEruicFsw9Rs2Sb0I3HbfbeHVFQWBADN%252F23HNIj2hmU7czXp%252Fk2XOYn57lTXU%252FqdW9OcPfey86raxRm%252FKo25vKwIT4pp55b7Kp54LWvxXmV2ISLkAgdIIhgB3Y7yn2g9DU01GBfRmp%252FD6T1388eY3JD6DcyolsT16wgWHfWT34ApM03im0DuIGnfZmzH8T9Lht%252BYwZG%252FwHVw90Pj9Ht9C%252Fqoz8%253D%26RelayState%3D%252F%26SigAlg%3Dhttp%253A%252F%252Fwww.w3.org%252F2000%252F09%252Fxmldsig%2523rsa-sha1%26Signature%3DxUOr4zHaIQ%252F7hFj0ru%252B0STMafIsUZJFIP8uDWA8ucWlM6%252FLlIlKVzcV7XTyrE110P6uiYP5KsZMOAkSy03nFb61KKAwIAOif60f2p4%252BLFsqYGq0G3qk%252Boh2sKdth2%252Fjqjy6oQdfFgIvkD%252FlRH1HilxJupaelrwjqQ6dZ66UKUqH9HATvxfqlWQBQD3OJ5HvlIByPwAAALHeQruwSHyancvKU8B7mW4%252BnkXDPFIOXOGW%252FAXQBLztB8csK4zG5HkUlrhtVRTvBuzE8c9ysYibJZz7XSrQgmI02pE9NLtlbSup8DrwFf6IROgbfHua9s1stIWBBa0lmQb3woIUqsWKZmYXXn1B9HvZCNZXAxRQ2ET7F3%252Bm7BVcKNSJzWMe5w6K4aytZgiQ%252FCDvIzvNmWD2vo4LKSjyiM9Uw5ZhmWb9IcwbxtNxGRrsIGy%252F5ud0h5%252FxXSp0M8tRN7xntLoDEUjOdaBxHqCrnvIvNE%252F1aao2oB8eK3wmzG%252BwbXpiUUmPUfgyUOhvmRB%252FSBMcD86DmXbz7dzv1DZVkbQx5rw7zu8IhyDQy1139GhQ2Apv%252B7c%252BsrI66bVDxeuqBIN6QXr8QhU2ZcSQNch4u6s1YjnSBiwlwB52oHGXblvOuYaTB6rHjrBa2Eyvt9%252B%252FbkTVqWk2wkafmE5umqWB%252FouhEnms0AYWhyt8%253D&vnd_pi_application_name=spinit', 'https://www.optum.com/', 'https://s.irs03.com', 'https://www.weather.gov/', 'https://ytmp3.cc/en13/', 'https://api.nextgen.guardianapps.co.uk', 'https://qiniudns.com', 'https://imolive2.com', 'https://piano.io', 'https://partnerize.com/en', 'https://abroad-adv.360os.com', 'https://www.sas.com/en_us/home.html', 'https://www.python.org/', 'https://www.air.tv/', 'https://imp-dsp.bidgear-dsp.work', 'https://p9.pstatp.com', 'https://csync.smilewanted.com', 'https://darkreader.org/', 'https://en.chinacache.com/', 'https://www.churchofjesuschrist.org/?lang=eng', 'https://www.tapresearch.com/', 'https://xiti.com', 'https://www.shopbop.cdn.amazon.com', 'https://watch.amazon.com', 'https://stuck-sg.dc.oppomobile.com', 'https://www.oracle.com/applications/customer-experience/service/', 'https://www.freepik.com/', 'https://crowdsignal.com', 'https://www.algolia.com/', 'https://apps.mypurecloud.com', 'https://api.myfitnesspal.com', 'https://www.goodsync.com/', 'https://www.pubwise.io/', 'https://resepkoki.id', 'https://turbotax.intuit.com/legacy_browser/', 'https://passport.alibaba.com/icbu_login.htm', 'https://subscription.iqiyi.com', 'https://hexcan.com', 'https://dma.bittitan.com', 'https://www.fluidplayer.com/', 'https://read.amazon.com', 'https://accounts.google.com/ServiceLogin?service=ah&passive=true&continue=https://appengine.google.com/_ah/conflogin%3Fcontinue%3Dhttps://us-central1-adaptive-growth.cloudfunctions.net/', 'https://fo-static-usa02.omnitagjs.com', 'https://support1.like.video', 'https://traffichaus.com', 'https://niantic.helpshift.com/a/pokemon-go/?p=web', 'https://app.iterable.com/login', 'https://www.tremorvideo.com/', 'https://selfhost.eu/cgi-bin/selfhost', 'https://mobile-bt.com', 'https://www.oculus.com/', 'https://www.ripe.net/', 'https://accounts.google.com/ServiceLogin?passive=1209600&osid=1&continue=https://console.firebase.google.com/project/fb-monitoring-prod/database/data/&followup=https://console.firebase.google.com/project/fb-monitoring-prod/database/data/', 'https://rec.smartlook.com', 'https://cdn.feedify.net', 'https://www.mailerlite.com/', 'https://www.sprint.com/', 'https://geoip.insticator.com', 'https://pypi.org', 'https://www.agoda.com/', 'https://dm.pstatp.com', 'https://www.rockerbox.com/', 'https://www.aol.com', 'https://contentinsights.com', 'https://powerapps.microsoft.com/en-us/', 'https://www.uptodate.com/home', 'https://intuitcorp.quickbase.com/db/main?a=signin', 'https://us.upsellit.com/', 'https://www.scmp.com/', 'https://www.adaware.com/', 'https://translate.google.co.id', 'https://buzzoola.com/en/', 'https://groupme.com/en-US/', 'https://media-lax1.inq.com', 'https://www.amazon.com/ap/signin?showRmrMe=1&openid.return_to=https%3A%2F%2Falexa.amazon.com%2F&openid.identity=http%3A%2F%2Fspecs.openid.net%2Fauth%2F2.0%2Fidentifier_select&openid.assoc_handle=amzn_dp_project_dee&openid.mode=checkid_setup&openid.claimed_id=http%3A%2F%2Fspecs.openid.net%2Fauth%2F2.0%2Fidentifier_select&openid.ns=http%3A%2F%2Fspecs.openid.net%2Fauth%2F2.0&', 'https://www.vlive.tv/home', 'https://abcnews.go.com', 'https://www.adobe.io/apis/creativecloud/adobe-fonts.html', 'https://www.hellobar.com/', 'https://acidpigs.com', 'https://castle.io', 'https://wisepops.com', 'https://pms.ms-en.360os.com', 'https://www.wunderground.com/', 'https://gdriveplayer.me', 'https://www.fing.com:443/', 'https://ipstack.com', 'https://api4.nhatvip-shopify.com', 'https://cdn.b0e8.com', 'https://prnt.sc', 'https://www.tools4ever.com/software/helloid-idaas-cloud-single-sign-on/', 'https://cloud.connectedpdf.com', 'https://moboclick09.com', 'https://repository.secomtrust.net', 'https://elb.the-ozone-project.com', 'https://pcus.ucweb.com', 'https://dugout.com', 'https://player.anyclip.com', 'https://redcanary.com/', 'https://www.merriam-webster.com/', 'https://rs.sinajs.cn', 'http://www.msn.com/en-us/weather', 'https://jochen-hoenicke.de', 'https://www.booking.com/?cdn=1', 'https://ulrichard.ch/blog/', 'https://secure.echosign.com/', 'https://www.shopback.co.th/', 'https://www.google.com/script/start/', 'https://brainly.com', 'https://serving.8f137082.life/', 'https://www.contentful.com/developers/docs/references/content-delivery-api/', 'https://pubfinity.com', 'https://simplecast.com', 'https://nid.naver.com/nidlogin.login?mode=form&url=https%3A%2F%2Fnid.naver.com%2Fuser2%2Fapi%2Froute.nhn%3Fm%3DroutePcMyInfo', 'https://vn.cla.garenanow.com', 'https://javforme.ninja', 'https://electrum2.villocq.com/userportal/webpages/myaccount/login.jsp', 'https://www.ea.com/studios/popcap', 'https://www.timeanddate.com/', 'https://mobadvent.com', 'https://www.patreon.com:443/', 'https://www.tdameritrade.com/home.page', 'https://www.vulture.com/', 'https://inskinad.com', 'https://sourceforge.net', 'https://electrum-server.ninja', 'https://jsd-widget.atlassian.com', 'https://tynt.com.cdn.cloudflare.net', 'https://www.viva.co.id/', 'https://support.microsoft.com/en-us/help/4046109/groove-music-and-spotify-faq', 'https://veve.com/en/', 'https://whoscall.com/en-US/', 'https://cdnjs.com', 'https://www.globe.com.ph/', 'https://www.gobankingrates.com/', 'https://hk.finance.yahoo.com', 'https://logger.cloudmobi.net', 'https://i.go.sohu.com', 'https://www.xiaohongshu.com', 'https://www.nexplayersdk.com/', 'https://slack.com/apps/A2RPP3NFR-jira-cloud?nojsmode=1', 'https://royalads.net', 'https://t1.hshh.org/login', 'https://www.codeblackbelt.com/', 'https://www.zimperium.com/', 'https://mobile.twitter.com/emzy', 'https://core.royalads.net', 'https://www.bangkokbiznews.com/', 'https://www.spot.im', 'https://id.app.joox.com', 'https://www.meredith.com/', 'https://www.goodsync.com', 'https://asana.com', 'https://www.alibaba.com', 'https://www.yeesshh.com/', 'https://dns.joox.com', 'https://www.dbs.com.sg/index/default.page', 'https://www.medicalnewstoday.com/', 'https://darksky.net/forecast/40.7127,-74.0059/us12/en', 'https://www.shopback.com/', 'https://www.ricoh.com/', 'https://pubfinity.com:443/', 'https://cannontwin.com', 'https://www.brid.tv//', 'https://www.kompas.tv/', 'https://mobile.twitter.com/signup', 'https://www.4shared.com', 'https://www.wunderlist.com/', 'https://performancemanager5.successfactors.eu/sf/start/', 'https://click.dl-now.app', 'https://www.mansionglobal.com/', 'https://emailsrvr.com/index.php', 'https://jira-trello-integration.us-east-1.prod.public.atl-paas.net/atlassian-connect.json', 'https://www.fonts.com/', 'https://serving.8f137082.life', 'https://id.search.yahoo.com', 'https://plugins.jetbrains.com', 'https://taplytics.com', 'https://www.cloud.com/', 'https://coronavirus.jhu.edu', 'https://www.siriusxm.com/', 'https://www.cnbcindonesia.com', 'https://www.airbnb.com', 'https://www.outbrain.com', 'https://descnew.taobao.com', 'https://getfedora.org/', 'https://azure.microsoft.com/en-us/services/devops/?nav=min', 'https://t.go.sohu.com', 'https://www.alkami.com/', 'https://grab.slack.com/?nojsmode=1', 'https://placeholder.com/', 'https://anchor.fm', 'http://blog.dota2.com/?l=english', 'https://sso.secureserver.net/?app=certs&path=%2Fcert', 'https://static.mailerlite.com/users/login/Ly8=', 'https://nh-mobile-config.ring.com', 'https://www.nanigans.com/', 'https://s.zillow.net', 'https://www.goguardian.com', 'https://www.yelp.com/developers', 'https://www.easeus.com/', 'https://www.dishanywhere.com/', 'https://www.privateinternetaccess.com/', 'https://ds-4047.kxcdn.com', 'https://customer.io', 'https://p9-tt-ipv6.byteimg.com', 'https://www.altmetric.com/', 'https://www.hud.gov/', 'https://secondstreetapp.com', 'https://news.education.investing.com', 'https://www.drip.com/', 'https://www.wework.com/', 'https://www.yengo.com/', 'https://www.liputan6.com', 'https://sweatco.in', 'https://exponea.com', 'https://unbounce.com', 'https://www.histats.com', 'https://eff.ro', 'https://gimbal.com', 'https://www.istockphoto.com/landing/unsupported', 'https://akamaitests.azureedge.net', 'https://www.ca.gov/', 'https://store.google.com/us/product/nest_cam?hl=en-US&GoogleNest&dropcam=true', 'https://www.y2mate.com/en19', 'https://www.apnic.net/', 'https://translate.google.co.th', 'https://store.playstation.com/en-us/home/games', 'https://www.playstation.com/en-us/network/store/', 'https://www.dictionary.com', 'https://indosatooredoo.com/id/personal', 'https://policies.google.com', 'https://www.shutterstock.com', 'https://lscreenc.com', 'https://imgs.hostyour.video', 'https://lf6-geckocdn-tos.pstatp.com', 'https://support.ricoh.com', 'https://www.newsweaver.com/', 'https://infogram.com/', 'http://www.ipinyou.com.cn/', 'https://api.imgur.com', 'https://nativeads.com', 'https://report.meituan.com', 'https://cihar.com', 'https://glip.com', 'https://polarbyte.com', 'https://www.checkpoint.com/', 'https://www.rhombusads.com/', 'https://media-wpa.chat.zalo.me', 'https://shop.nordstrom.com/', 'https://www.prakerja.go.id', 'https://cdn.codeblackbelt.com', 'https://dativa.com', 'https://developer.apple.com', 'https://esports.clashroyale.com/en/west/', 'https://faq.whatsapp.com', 'https://performmedia.com', 'https://bkmsg-talk.zaloapp.com', 'https://support.theguardian.com/us/support', 'https://www.vulture.com', 'https://regional.kompas.com', 'https://trendmd.com', 'https://www.tm.com.my/Pages/Home.aspx', 'https://adxxx.com', 'https://www.amazon.sg/', 'https://ptoahaistais.com/feed/', 'https://www.virtru.com/', 'https://bngpt.com', 'https://www.vmware.com/resources/compatibility/search.php', 'https://wyze.com/', 'https://s3m4.nzwgs.com', 'https://www.pbs.org/', 'https://mapi.dianping.com', 'https://www.geojs.io/', 'https://m.facebook.com/?refsrc=https%3A%2F%2Fid-id.facebook.com%2F&_rdr', 'https://go2s.co', 'https://get.geojs.io', 'https://www.kapanlagi.com/', 'https://styleguide.brainly.com/161.3.0/docs/', 'https://acrobat.adobe.com/us/en/', 'https://admin.pingone.com/web-portal/login', 'https://www.cbc.ca/', 'https://mail.aol.com', 'https://my.justuno.com/login.html?redir=https%3A%2F%2Fmy%2Ejustuno%2Ecom%2Fadmin%2Fv2%2Fpromotions', 'https://api.flickr.com/browser/upgrade/?continue=%2F', 'https://www.firefox.com.cn/', 'https://aimtell.com', 'https://www.sciencedirect.com/', 'https://docs.castle.io/', 'https://www.zentrick.com/', 'https://support.carousell.com/hc/en-us', 'https://inbox.clashroyale.com', 'https://activation.bluebeam.com', 'https://www.thesaurus.com/', 'https://minute.ly', 'https://www.cnn.com/business', 'https://www.sketchup.com/', 'https://api.dianshihome.com', 'https://hk.app.joox.com', 'https://www.powerinbox.com/', 'https://www.display.io/', 'https://www.idaho.gov/', 'https://bitmovin.com', 'https://idio.ai/', 'https://www.strava.com/', 'https://userway.org', 'https://www.healthline.com', 'https://wesingapp.com', 'https://electrum.leblancnet.us', 'https://www.invisionapp.com/', 'https://plarium.com/en/bad-browser/', 'https://api.altmetric.com', 'https://www.jdcloud.com/', 'https://corgi.party', 'https://www.explorads.media/', 'https://s.go.sohu.com', 'https://unsplash.com/developers', 'https://www.cbox.ws/', 'https://heatmap.com/', 'https://hk.celebrity.yahoo.com', 'https://lenslayers.withgoogle.com', 'https://www.figma.com/', 'https://mm.app.joox.com', 'https://developer.wordpress.org/rest-api/', 'https://bri.co.id', 'https://timezoneapi.io', 'https://www.gettyimages.com/landing/unsupported', 'https://engineering.linkedin.com/', 'https://thumbs.cdn-ec.viddler.com', 'https://www.dialogtech.com/', 'https://flourish.studio/', 'https://finance.detik.com', 'https://vwo.com/engage/?ref=pc', 'https://b1029as1.adspirit.de/', 'https://schema.org', 'https://www.priceza.com/', 'https://dotnet.microsoft.com/apps/aspnet/signalr', 'https://www.waze.com/', 'https://easemob.com', 'https://www.blockchain.com/explorer', 'https://open.spotify.com/', 'https://riotgames.slack.com/?nojsmode=1', 'https://zillow.zendesk.com/hc/en-us', 'https://id.m.wikipedia.org/wiki/Halaman_Utama', 'https://login.aol.com', 'https://appsrv.display.io', 'https://nation.foxnews.com', 'https://www.afterpay.com/index', 'https://connect.xfinity.com/appsuite/unsupported.html', 'https://www.iubenda.com/en/', 'https://www.yieldify.com/', 'https://cdn.honey.io', 'https://multco.us', 'https://remote1.ninite.com', 'https://tw.dictionary.search.yahoo.com', 'https://smile.io', 'https://b.cdnst.net', 'https://www.loom.com/', 'https://taborsky.cz', 'https://canonical.com', 'https://hk.style.yahoo.com', 'https://www.cisco.com/c/en/us/support/docs/security/email-security-appliance/118775-technote-esa-00.html', 'https://mobile.twitter.com/login', 'https://exo-dsp.com', 'https://stumbleupon.com', 'https://getgreenshot.org', 'https://www.cookiepro.com/', 'https://www.thairath.co.th/home', 'https://f-secure.com/us-en', 'https://www.gog.com/', 'https://aff-policy.lbesecapi.com', 'https://electrum.taborsky.cz', 'https://tag.getdrip.com', 'https://www.trustedsite.com/', 'https://www.nbcsports.com/', 'https://www.intowow.com/', 'https://uxip.in.meizu.com', 'https://wpa.zaloapp.com', 'https://www.pushbullet.com/', 'https://www.getepic.com/', 'https://www.amazon.nl', 'https://update.kingsoftstore.com', 'https://www.pokkt.com/', 'https://answers.microsoft.com/en-us', 'https://spoutable.com', 'https://www.fandangonow.com/', 'https://web.wechat.com', 'https://pixel.watch', 'https://certs.securetrust.com', 'https://www.clicktripz.com', 'https://www.allrecipes.com/', 'https://www.sierrawireless.com/', 'https://people.com', 'https://shops.myshopify.com', 'https://app.prntscr.com/en/index.html', 'https://www.samsungknox.com/en', 'https://www.amazon.ae/', 'https://carnivalmobile.com', 'https://www.mp3juices.cc/', 'https://www.cashay.com/', 'https://stamped.io', 'https://www.dbs.com/default.page', 'https://www.java.com/en/', 'https://tirto.id', 'https://zingplay.com', 'https://stripchat.com', 'https://20.detik.com', 'https://www.harianhaluan.com/', 'https://www.coursera.org/', 'https://cuhk.edu.hk/english/index.html', 'https://www.nfl.com/', 'https://update.dbankcdn.com', 'https://www.jivochat.com:443/', 'https://www.htc.com/us/', 'https://www.indeed.com', 'https://www.realtor.com', 'https://www.tradedoubler.com/en/', 'https://messages.google.com', 'https://feedly.com', 'https://www.coro.net/', 'https://www.granify.com/', 'https://www.sap.com/index.html', 'https://amp.kompas.com', 'https://us.dlink.com/en/consumer', 'https://www.addevent.com/', 'https://awake-stats.jpush.cn', 'https://cdn.espn.com', 'https://zippyshare.com', 'https://www.engagio.com/', 'https://www.kontan.co.id:443/', 'https://www.parrable.com/', 'https://www.hatena.ne.jp:443/', 'https://www.activision.com/', 'https://www.123rf.com/', 'https://bitly.com', 'https://en.softonic.com', 'https://www.houzz.com/', 'https://g.facemojikeyboard.com', 'https://www.leadforensics.com/', 'https://sg.news.yahoo.com', 'https://www.instacart.com/', 'https://www.theatlantic.com/', 'https://www.xfinity.com', 'https://www.consumertrack.com/', 'https://web.mit.edu/', 'https://async-lb-2129785755.us-east-1.elb.amazonaws.com', 'https://issuu.com', 'https://www.atlassian.com', 'https://www.sendtonews.com/', 'https://about.gitlab.com/', 'https://id.savefrom.net/7/', 'https://dualstack.async-lb-2129785755.us-east-1.elb.amazonaws.com', 'https://m.bukalapak.com', 'https://adrise.com/', 'https://gliacloud.com/en/', 'https://www.iheart.com', 'https://recomm.cnblogs.com', 'https://gitcdn.xyz', 'https://www.investopedia.com/', 'https://noembed.com', 'https://www.cbsnews.com', 'https://s3m3.fenxi.com', 'https://www.scmp.com', 'https://downloadlagu-gratis.net', 'https://www.peak.com/', 'https://cdn.merklesearch.com', 'https://mppnnetwork.com', 'https://venmo.com', 'https://auth.uber.com/login/?breeze_local_zone=dca1&next_url=https%3A%2F%2Fm.uber.com%2F&state=V0EL9Nxrd1izWbJnk7XFK9RnTmbIWbivo2WAxgKEudw%3D', 'https://www.att.com', 'https://www.ask.com', 'https://www.pandasecurity.com/', 'https://www.uptodown.com/', 'https://elev.io', 'https://www.zoho.com/salesiq/', 'https://start.searchanise.com/', 'https://iwoop.com', 'https://liftoff.io/privacy-policy', 'https://getshogun.com', 'https://judge.me', 'https://argoapi.livemediav.com', 'https://en.bongacash.com/', 'https://cmail19.com', 'https://www.patreon.com', 'https://pro-a-user-avatar-cdn.im-gb.com', 'https://talk.m.zing.vn', 'https://www.printerlogic.com/', 'https://rek.savefrom.net/www/admin/index.php', 'https://www.trendmd.com', 'https://polling.zoom.us', 'https://www.merriam-webster.com', 'https://thumb.ex-cdn.com', 'https://www.musixmatch.com/', 'https://centos.org', 'https://manychat.com', 'https://www.arlo.com/en-us/default.aspx', 'https://www.tplinkcloud.com/', 'https://www.bluestacks.com', 'https://digg.com', 'https://kayzen.io', 'https://www.adrizer.com/', 'https://inet.detik.com', 'https://www.kapook.com/', 'https://adobeid-na1.services.adobe.com/renga-idprovider/pages/login?callback=https%3A%2F%2Fims-na1.adobelogin.com%2Fims%2Fadobeid%2FCampaign1%2FAdobeID%2Fcode%3Fredirect_uri%3Dhttps%253A%252F%252Fadobemobiledev-mkt-prod1-lb.campaign.adobe.com%252Fxtk%252Flogon.jssp&client_id=Campaign1&scope=AdobeID%2Cperson%2Csession%2Cadditional_info.projectedProductContext%2Cread_organizations%2Cadditional_info.user_image_url%2Cwrite_pc%2Caudiencemanager_api%2Copenid%2Ctriggers&denied_callback=https%3A%2F%2Fims-na1.adobelogin.com%2Fims%2Fdenied%2FCampaign1%3Fredirect_uri%3Dhttps%253A%252F%252Fadobemobiledev-mkt-prod1-lb.campaign.adobe.com%252Fxtk%252Flogon.jssp%26response_type%3Dcode&relay=dbd102ec-12d2-4526-9e10-eba9a558594b&locale=en_US&flow_type=code&idp_flow_type=login', 'https://www.readspeaker.com/', 'https://www.groupon.com', 'https://cdn.judge.me', 'https://api.userway.org', 'https://www.acquia.com/', 'https://logger.zcoup.com', 'https://www.mint.com/', 'https://help.zillowrentalmanager.com/hc/en-us', 'https://www.zillow.com/rental-manager/', 'https://www.ap.org/en-us/', 'https://www.mpl.live/', 'https://na2.documents.adobe.com', 'https://sucimg.itc.cn', 'https://login.alibaba-inc.com:443/mLogin.htm?APP_NAME=flyap&BACK_URL=https%3A%2F%2Fm.tmall.com%2F', 'https://www.livejasmin.com/en/girls/', 'https://promo-bc.com', 'https://secure.comodo.com/products/frontpage?area=ssl', 'https://www.ccc.de/', 'https://hk.dictionary.search.yahoo.com/', 'https://fortiguard.com', 'https://www.cludo.com/', 'https://www.hcaptcha.com/', 'https://accounts.google.com/ServiceLogin?passive=1209600&continue=https://keep.google.com/&followup=https://keep.google.com/&ltmpl=keep', 'https://www.wired.com/', 'https://backinstock.org', 'https://bidtellect.com', 'https://www.podbean.com/', 'https://qbox.me', 'https://ts01-b.csa.cloudsink.net', 'https://api.west.bidtellect.com', 'https://www.dreamstime.com/', 'https://www.formstack.com', 'https://west.bidtellect.com', 'https://poperblocker.com', 'https://www.salesforce.com', 'https://legacy.npr.org', 'https://www.cedia.edu.ec/es/', 'https://keen.io', 'https://www.pricespider.com/', 'https://geolocation.forbes.com', 'https://products.office.com/en-us/home?legRedir=default&CorrelationId=4f9eb6d0-ef70-4795-a397-c5fb7c0b4aa1&rtc=1', 'https://www.merdeka.com/', 'https://dribbble.com', 'https://www.traveloka.com/en/update', 'https://www.tumblr.com/docs/en/api/v2', 'https://nordvpn.com', 'https://newsmaxfeednetwork.com', 'https://platform.smile.io', 'https://info.flipgrid.com', 'https://adsplay.net', 'https://aff-report.lbesecapi.com', 'https://hot.detik.com', 'https://www.idexx.com/en/', 'https://www.hypstar.com/', 'https://urldefense.com', 'https://globatds.com', 'https://www.egnyte.com/', 'https://www.vewd.com/', 'https://thumb-v0.xhcdn.com', 'https://drudgereport.com', 'https://www.media.net/?host=whitelabel.media.net', 'https://mirror.cedia.org.ec', 'https://www.ariba.com/', 'https://powerad.ai', 'https://github.com/', 'https://s-lime.com', 'https://pushclk.com', 'https://sport.detik.com', 'https://www.get-express-vpn.com/', 'https://www.engadget.com/', 'https://sync.myfitnesspal.com', 'https://www.yottaa.com/', 'https://churnzero.net', 'https://db-ip.com', 'https://accounts.google.com/ServiceLogin?service=feedburner&continue=https%3A%2F%2Ffeedburner.google.com%2Ffb%2Fa%2Fmyfeeds&gsessionid=OVdUW8ZkS2Ntay_E2gbqtKPNGpQ4Lvk-', 'https://instant.page', 'https://www.sc.com/en/', 'https://wolipop.detik.com', 'https://api.s-lime.com', 'https://mwf-service.akamaized.net/en-us/?rtc=1', 'https://pages.lazada.com.my', 'https://plyr.io', 'https://www.acast.com/en', 'https://usa.visa.com/pay-with-visa/checkout.html', 'https://translate.google.com.tw', 'https://auth.uber.com/login/?breeze_local_zone=dca1&next_url=https%3A%2F%2Fbiz.uber.com%2F&state=HGdLln5616AxJqXZCs3qAmGGhC5C8xXZc6An8uFzKp4%3D', 'https://p16-va.topbuzzcdn.com', 'https://www.tappx.com/en/', 'https://clickdimensions.com', 'https://md5.hackerwatch.org', 'https://www.schoology.com/', 'https://www.bluebillywig.com/', 'https://c0nnectthed0ts.com', 'https://www.infonline.de', 'https://monsido.com', 'https://www.liveclicker.com/', 'https://www.bankmandiri.co.id/', 'https://www.videolan.org/', 'https://shareasale.com', 'https://report-uri.com', 'https://apilayer.com', 'https://u.lazada.vn', 'https://www.mail.com/', 'https://www.macrium.com/', 'https://dramaqu.info', 'https://cmonitor.iqiyi.com', 'https://www.safeway.com/', 'https://www.hsbc.com/', 'https://economictimes.indiatimes.com', 'https://www.glassdoor.com/index.htm', 'https://www.halodoc.com/', 'https://www.hyprmx.com/', 'https://eeomitates.pro', 'https://m.dailyhunt.in/news/india/english', 'https://us.shein.com/?ref=www&rep=dir&ret=us', 'https://www.similarweb.com/', 'https://update.appstore.vivo.com.cn', 'https://www.alaska.edu/alaska/', 'https://cdnx.stream', 'https://adgeek.net', 'https://getpublica.com', 'https://thehill.com', 'https://s.media-imdb.com', 'https://www.rackspace.com:443/', 'https://frvr.com', 'https://ok3static.oktacdn.com', 'https://partners.cmptch.com', 'https://www.workplace.com/?refsrc=https%3A%2F%2Fupload.workplace.com%2F&_rdr', 'https://wootag.com', 'https://espssl.com/Account/Login.aspx', 'https://www.sparkpost.com/', 'https://login.l2.salesforce.com', 'https://www.pagerduty.com/', 'http://www.viglink.com:80/', 'https://www.codeblackbelt.com', 'https://accounts.zaloapp.com', 'https://www.owox.com/', 'https://yahoomode.tumblr.com', 'https://community.spiceworks.com', 'https://www.g4s.com/', 'https://www.hitekno.com/', 'https://apinas.nct.vn', 'https://www.qubit.com/', 'https://metrolagu1.me', 'https://www.filestack.com/', 'https://www.oracle.com/corporate/acquisitions/grapeshot/', 'https://pastebin.com', 'https://www.reddit.com:443/', 'https://us02www3.zoom.us', 'https://www.barracuda.com/', 'https://flagcounter.com', 'https://www.miniworldgame.com/', 'https://www.grammarly.com', 'https://tunein.com', 'https://www.ncbi.nlm.nih.gov/pubmed/', 'https://topflownews.com/feed/', 'https://sg.theasianparent.com', 'https://www.pornhubpremium.com/', 'https://i.loli.net', 'https://www.overwolf.com/pages/homepage/', 'https://ubiquity.com/', 'https://www.ksl.com/', 'https://www.lucidchart.com/', 'https://centurylink.net', 'https://www.datastax.com/', 'https://www.fool.com/', 'https://piano.io/product/esp/', 'https://app.convertkit.com/users/login', 'https://autos.yahoo.com.tw', 'https://aws.amazon.com/chime/', 'https://truehits.net', 'https://ims.bentley.com/IMS/Account/Login?ReturnUrl=%2f%3fwa%3dwsignin1.0%26wtrealm%3dhttps%253a%252f%252fbuddi.bentley.com%26wctx%3drm%253d0%2526id%253dpassive%2526ru%253d%25252f%26wct%3d2020-04-17T09%253a57%253a33Z', 'https://static.pubmed.gov', 'https://comment.v-mate.mobi', 'https://www.f5.com', 'https://www.harvard.edu/', 'https://www.kiloo.com/', 'https://www.linode.com/', 'https://login.weixin.qq.com', 'https://web.archive.org', 'https://www.ayosemarang.com/', 'https://goweatherex.3g.cn', 'https://www.happymod.com/', 'https://www.deviantart.com/', 'https://wiki.grab.com/login.action?os_destination=%2Findex.action&permissionViolation=true', 'https://browsec.com/en/', 'https://blog.trello.com/trello-acquires-butler', 'https://health.detik.com', 'https://www.disneyplus.com', 'https://www.cms.gov/', 'https://rebel.ai', 'https://techcrunch.com', 'https://grafana.com', 'https://id.zen.yandex.com/about', 'https://www.vanityfair.com/', 'https://www.ae.com/us/en', 'https://nkch.activehosted.com/admin/', 'https://apptocash.com', 'https://port-log.net/map.php', 'https://t.apptocash.com', 'https://login.xfinity.com/login', 'https://d3js.org', 'https://www.earnhardt.com/', 'https://www.rarlab.com/', 'https://acgtracker.com', 'https://www.ais.co.th', 'https://dexecure.com', 'https://mail.earnhardt.com/owa/auth/logon.aspx?url=https%3a%2f%2fmail.earnhardt.com%2fowa%2f&reason=0', 'https://subscribers.com', 'https://aws.amazon.com/iam/', 'https://www.y8.com/', 'https://services.ucp.kaspersky-labs.com']\n"
          ],
          "name": "stdout"
        }
      ]
    },
    {
      "cell_type": "code",
      "metadata": {
        "id": "U0PWNs_xsxow",
        "colab_type": "code",
        "colab": {}
      },
      "source": [
        "NUM_CLUSTERS=10\n",
        "# kclusterer = KMeansClusterer(NUM_CLUSTERS, distance=nltk.cluster.util.cosine_distance, repeats=25,avoid_empty_clusters=True)\n",
        "# assigned_clusters = kclusterer.cluster(X, assign_clusters=True)\n",
        "# print(assigned_clusters)"
      ],
      "execution_count": 0,
      "outputs": []
    },
    {
      "cell_type": "markdown",
      "metadata": {
        "id": "DCPy1Y_-5lLG",
        "colab_type": "text"
      },
      "source": [
        "##K means & Plotting clustered vectors"
      ]
    },
    {
      "cell_type": "code",
      "metadata": {
        "id": "0oSQCiTndicA",
        "colab_type": "code",
        "outputId": "58c4cd45-61e3-4420-c556-843cdc0483c2",
        "colab": {
          "base_uri": "https://localhost:8080/",
          "height": 537
        }
      },
      "source": [
        "import matplotlib.pyplot as plt\n",
        "from sklearn.manifold import TSNE\n",
        "\n",
        "for index, sentence in enumerate(sentences):    \n",
        "    pass\n",
        "    #print (str(assigned_clusters[index]) + \":\" + str(sentence))\n",
        "\n",
        "\n",
        "kmeans = cluster.KMeans(NUM_CLUSTERS)\n",
        "kmeans.fit(X)\n",
        "  \n",
        "labels = kmeans.labels_\n",
        "centroids = kmeans.cluster_centers_\n",
        "print(centroids)  \n",
        "print (\"Cluster id labels for inputted data\")\n",
        "print (labels)\n",
        "print (\"Centroids data\")\n",
        "print(len(centroids[0]))\n",
        "# print (centroids[0])\n",
        "# print(\"**************\",X[0])\n",
        "print(len(centroids))  \n",
        "#print (\"Score (Opposite of the value of X on the K-means objective which is Sum of distances of samples to their closest cluster center):\")\n",
        "#print (kmeans.score(X))\n",
        "  \n",
        "silhouette_score = metrics.silhouette_score(X, labels, metric='euclidean')\n",
        "  \n",
        "#print (\"Silhouette_score: \")\n",
        "#print (silhouette_score)\n",
        " \n",
        " \n",
        "\n",
        " \n",
        "modelg = TSNE(n_components=2, random_state=0)\n",
        "np.set_printoptions(suppress=True)\n",
        " \n",
        "Y=modelg.fit_transform(X)\n",
        " \n",
        " \n",
        "plt.scatter(Y[:, 0], Y[:, 1], c=assigned_clusters, s=290,alpha=.5)\n",
        " \n",
        "final_dict={}\n",
        "for j in range(len(sentences)):    \n",
        "   plt.annotate(assigned_clusters[j],xy=(Y[j][0], Y[j][1]),xytext=(0,0),textcoords='offset points')\n",
        "   if assigned_clusters[j] not in final_dict:\n",
        "     final_dict[assigned_clusters[j]]=[]\n",
        "   final_dict[assigned_clusters[j]].append(titles[j])\n",
        "   #print (\"%s %s\" % (assigned_clusters[j],  titles[j]))\n",
        "for key in final_dict.keys():\n",
        "  print(final_dict[key])\n",
        " \n",
        " \n",
        "plt.show()\n",
        "\n"
      ],
      "execution_count": 0,
      "outputs": [
        {
          "output_type": "stream",
          "text": [
            "[[ 0.05811801 -0.02761574 -0.02578452 ... -0.04045266  0.00226824\n",
            "  -0.03145449]\n",
            " [-0.00256034  0.02549039 -0.00517087 ... -0.0258575   0.02235945\n",
            "  -0.02080615]\n",
            " [ 0.0076858   0.01167576 -0.033661   ... -0.03850295  0.00550577\n",
            "  -0.00478194]\n",
            " ...\n",
            " [-0.01007459 -0.00493649  0.00748971 ... -0.05509014 -0.0049263\n",
            "   0.05566358]\n",
            " [ 0.0501579   0.01164733  0.04670857 ... -0.08483472  0.0010594\n",
            "   0.19166858]\n",
            " [ 0.04948277 -0.00882727 -0.03739999 ... -0.06155145 -0.00398586\n",
            "  -0.01988816]]\n",
            "Cluster id labels for inputted data\n",
            "[0 2 0 ... 6 3 0]\n",
            "Centroids data\n",
            "300\n",
            "10\n"
          ],
          "name": "stdout"
        },
        {
          "output_type": "error",
          "ename": "NameError",
          "evalue": "ignored",
          "traceback": [
            "\u001b[0;31m---------------------------------------------------------------------------\u001b[0m",
            "\u001b[0;31mNameError\u001b[0m                                 Traceback (most recent call last)",
            "\u001b[0;32m<ipython-input-14-19972658366d>\u001b[0m in \u001b[0;36m<module>\u001b[0;34m()\u001b[0m\n\u001b[1;32m     37\u001b[0m \u001b[0;34m\u001b[0m\u001b[0m\n\u001b[1;32m     38\u001b[0m \u001b[0;34m\u001b[0m\u001b[0m\n\u001b[0;32m---> 39\u001b[0;31m \u001b[0mplt\u001b[0m\u001b[0;34m.\u001b[0m\u001b[0mscatter\u001b[0m\u001b[0;34m(\u001b[0m\u001b[0mY\u001b[0m\u001b[0;34m[\u001b[0m\u001b[0;34m:\u001b[0m\u001b[0;34m,\u001b[0m \u001b[0;36m0\u001b[0m\u001b[0;34m]\u001b[0m\u001b[0;34m,\u001b[0m \u001b[0mY\u001b[0m\u001b[0;34m[\u001b[0m\u001b[0;34m:\u001b[0m\u001b[0;34m,\u001b[0m \u001b[0;36m1\u001b[0m\u001b[0;34m]\u001b[0m\u001b[0;34m,\u001b[0m \u001b[0mc\u001b[0m\u001b[0;34m=\u001b[0m\u001b[0massigned_clusters\u001b[0m\u001b[0;34m,\u001b[0m \u001b[0ms\u001b[0m\u001b[0;34m=\u001b[0m\u001b[0;36m290\u001b[0m\u001b[0;34m,\u001b[0m\u001b[0malpha\u001b[0m\u001b[0;34m=\u001b[0m\u001b[0;36m.5\u001b[0m\u001b[0;34m)\u001b[0m\u001b[0;34m\u001b[0m\u001b[0;34m\u001b[0m\u001b[0m\n\u001b[0m\u001b[1;32m     40\u001b[0m \u001b[0;34m\u001b[0m\u001b[0m\n\u001b[1;32m     41\u001b[0m \u001b[0mfinal_dict\u001b[0m\u001b[0;34m=\u001b[0m\u001b[0;34m{\u001b[0m\u001b[0;34m}\u001b[0m\u001b[0;34m\u001b[0m\u001b[0;34m\u001b[0m\u001b[0m\n",
            "\u001b[0;31mNameError\u001b[0m: name 'assigned_clusters' is not defined"
          ]
        }
      ]
    },
    {
      "cell_type": "markdown",
      "metadata": {
        "id": "ZYoKQGgAWOSL",
        "colab_type": "text"
      },
      "source": [
        "##Function to return cluster No for given url "
      ]
    },
    {
      "cell_type": "code",
      "metadata": {
        "id": "dcBuTLpVRI8Z",
        "colab_type": "code",
        "outputId": "fff7a232-23a9-4887-b0a1-d757b48590dc",
        "colab": {
          "base_uri": "https://localhost:8080/",
          "height": 195
        }
      },
      "source": [
        "#currently uses urlVector would change it to url link\n",
        "new_added=sent_vectorizer(new_url_title,modelg)\n",
        "print(kmeans.predict([new_added]))\n",
        "def cluster_number(urlVector):\n",
        "  import numpy\n",
        "  index=0\n",
        "  minDistance = numpy.linalg.norm(centroids[0]-urlVector)\n",
        "  for i in range(len(centroids)):\n",
        "    dist = numpy.linalg.norm(centroids[i]-urlVector)\n",
        "    if(dist<minDistance):\n",
        "      index=i\n",
        "      minDistance=dist\n",
        "  print(index,minDistance)\n",
        "  print(2,numpy.linalg.norm(centroids[2]-urlVector))\n",
        "  # print(49,numpy.linalg.norm(centroids[4wikipidea9]-urlVector))\n",
        "  # return index\n",
        "clustor_number(X[0])\n"
      ],
      "execution_count": 0,
      "outputs": [
        {
          "output_type": "error",
          "ename": "NameError",
          "evalue": "ignored",
          "traceback": [
            "\u001b[0;31m---------------------------------------------------------------------------\u001b[0m",
            "\u001b[0;31mNameError\u001b[0m                                 Traceback (most recent call last)",
            "\u001b[0;32m<ipython-input-34-f6850b5e8f30>\u001b[0m in \u001b[0;36m<module>\u001b[0;34m()\u001b[0m\n\u001b[1;32m     12\u001b[0m   \u001b[0;31m# print(49,numpy.linalg.norm(centroids[49]-urlVector))\u001b[0m\u001b[0;34m\u001b[0m\u001b[0;34m\u001b[0m\u001b[0;34m\u001b[0m\u001b[0m\n\u001b[1;32m     13\u001b[0m   \u001b[0;31m# return index\u001b[0m\u001b[0;34m\u001b[0m\u001b[0;34m\u001b[0m\u001b[0;34m\u001b[0m\u001b[0m\n\u001b[0;32m---> 14\u001b[0;31m \u001b[0mclustor_number\u001b[0m\u001b[0;34m(\u001b[0m\u001b[0mX\u001b[0m\u001b[0;34m[\u001b[0m\u001b[0;36m0\u001b[0m\u001b[0;34m]\u001b[0m\u001b[0;34m)\u001b[0m\u001b[0;34m\u001b[0m\u001b[0;34m\u001b[0m\u001b[0m\n\u001b[0m",
            "\u001b[0;31mNameError\u001b[0m: name 'clustor_number' is not defined"
          ]
        }
      ]
    },
    {
      "cell_type": "markdown",
      "metadata": {
        "id": "cabBh0ppZX5l",
        "colab_type": "text"
      },
      "source": [
        "## Fn to return cluster number based on the url"
      ]
    },
    {
      "cell_type": "code",
      "metadata": {
        "id": "CR_EbzCAZiFu",
        "colab_type": "code",
        "outputId": "102b337e-21f3-4f1a-ee68-8997168ba00d",
        "colab": {
          "base_uri": "https://localhost:8080/",
          "height": 35
        }
      },
      "source": [
        "# X stores the VECTOR of the document \n",
        "# title_map gives the index of the document \n",
        "def get_cluster(title):\n",
        "  if title in title_map:\n",
        "    id=title_map[title]\n",
        "    return get_cluster(id)\n",
        "  else:\n",
        "    return \"not assigned cluster\"\n",
        "\n",
        "#testing \n",
        "get_cluster('https://www.google.com')"
      ],
      "execution_count": 0,
      "outputs": [
        {
          "output_type": "execute_result",
          "data": {
            "text/plain": [
              "'not assigned cluster'"
            ]
          },
          "metadata": {
            "tags": []
          },
          "execution_count": 58
        }
      ]
    },
    {
      "cell_type": "markdown",
      "metadata": {
        "id": "rsID4wOXN8di",
        "colab_type": "text"
      },
      "source": [
        "#Using Word2Vec Model"
      ]
    },
    {
      "cell_type": "code",
      "metadata": {
        "id": "vdu7Ei90CgIi",
        "colab_type": "code",
        "colab": {}
      },
      "source": [
        "import pandas as pd\n",
        "#url = 'https://raw.githubusercontent.com/Nitss10/Walkover/master/top_10.csv'\n",
        "#url='https://raw.githubusercontent.com/Nitss10/Walkover/master/final_top_100.csv'\n",
        "url='https://raw.githubusercontent.com/Nitss10/Walkover/master/eng_final_top_100.csv'\n",
        "df = pd.read_csv(url)\n",
        "l=[]\n",
        "titles=[]\n",
        "x=df.text.tolist()\n",
        "y=df.title.tolist()\n",
        "for title in y:\n",
        "  titles.append(title)\n",
        "for item in x:\n",
        "    l.append(item.split())\n",
        "   "
      ],
      "execution_count": 0,
      "outputs": []
    },
    {
      "cell_type": "code",
      "metadata": {
        "id": "qqF-14JWTLDb",
        "colab_type": "code",
        "outputId": "994705a7-cb2d-4cdc-e1e8-eefaa7b224ad",
        "colab": {
          "base_uri": "https://localhost:8080/",
          "height": 366
        }
      },
      "source": [
        "from gensim.models import Word2Vec\n",
        "  \n",
        "from nltk.cluster import KMeansClusterer\n",
        "import nltk\n",
        "import numpy as np \n",
        "import matplotlib.pyplot as plt \n",
        "from sklearn import cluster\n",
        "from sklearn import metrics\n",
        "\n",
        "\n",
        "sentences = l  \n",
        "  \n",
        " \n",
        "model = Word2Vec(sentences, min_count=1,size=200)\n",
        "\n",
        "  \n",
        "def sent_vectorizer(sent, model):\n",
        "    sent_vec =[]\n",
        "    numw = 0\n",
        "    for w in sent:\n",
        "        try:\n",
        "            if numw == 0:\n",
        "                sent_vec = model[w]\n",
        "            else:\n",
        "                sent_vec = np.add(sent_vec, model[w])\n",
        "            numw+=1\n",
        "        except:\n",
        "            pass\n",
        "     \n",
        "    return np.asarray(sent_vec) / numw\n",
        "  \n",
        "  \n",
        "X=[]\n",
        "for sentence in sentences:\n",
        "    X.append(sent_vectorizer(sentence, model))   \n",
        "  \n",
        " \n",
        "print (\"========================\")\n",
        "\n",
        "\n",
        "# print (model.similarity('post', 'book'))\n",
        "# print (model.most_similar(positive=['machine'], negative=[], topn=2))\n",
        " \n",
        "wcss = []\n",
        "for i in range(1, 11):\n",
        "    kmeans = cluster.KMeans(n_clusters=i, init='k-means++', max_iter=300, n_init=10, random_state=0)\n",
        "    kmeans.fit(X)\n",
        "    wcss.append(kmeans.inertia_)\n",
        "plt.plot(range(1, 11), wcss)\n",
        "plt.title('Elbow Method')\n",
        "plt.xlabel('Number of clusters')\n",
        "plt.ylabel('WCSS')\n",
        "plt.show()\n",
        "     \n",
        "     \n"
      ],
      "execution_count": 0,
      "outputs": [
        {
          "output_type": "stream",
          "text": [
            "/usr/local/lib/python3.6/dist-packages/ipykernel_launcher.py:29: DeprecationWarning: Call to deprecated `__getitem__` (Method will be removed in 4.0.0, use self.wv.__getitem__() instead).\n",
            "/usr/local/lib/python3.6/dist-packages/ipykernel_launcher.py:31: DeprecationWarning: Call to deprecated `__getitem__` (Method will be removed in 4.0.0, use self.wv.__getitem__() instead).\n"
          ],
          "name": "stderr"
        },
        {
          "output_type": "stream",
          "text": [
            "========================\n"
          ],
          "name": "stdout"
        },
        {
          "output_type": "display_data",
          "data": {
            "image/png": "[encoded data removed]",
            "text/plain": [
              "<Figure size 432x288 with 1 Axes>"
            ]
          },
          "metadata": {
            "tags": [],
            "needs_background": "light"
          }
        }
      ]
    },
    {
      "cell_type": "code",
      "metadata": {
        "id": "HOLwIPs0T9Ju",
        "colab_type": "code",
        "outputId": "11c339e7-9cf2-43b8-c130-897a494137ee",
        "colab": {
          "base_uri": "https://localhost:8080/",
          "height": 374
        }
      },
      "source": [
        "NUM_CLUSTERS=10\n",
        "kclusterer = KMeansClusterer(NUM_CLUSTERS, distance=nltk.cluster.util.cosine_distance, repeats=25)\n",
        "assigned_clusters = kclusterer.cluster(X, assign_clusters=True)\n",
        "print (assigned_clusters)\n",
        "    \n",
        "for index, sentence in enumerate(sentences):    \n",
        "    pass\n",
        "    #print (str(assigned_clusters[index]) + \":\" + str(sentence))\n",
        "\n",
        "kmeans = cluster.KMeans(NUM_CLUSTERS)\n",
        "kmeans.fit(X)\n",
        "  \n",
        "labels = kmeans.labels_\n",
        "centroids = kmeans.cluster_centers_\n",
        "  \n",
        "print (\"Cluster id labels for inputted data\")\n",
        "print (labels)\n",
        "#print (\"Centroids data\")\n",
        "#print (centroids)\n",
        "  \n",
        "#plotting the graph \n",
        "\n",
        "\n",
        " \n",
        "from sklearn.manifold import TSNE\n",
        " \n",
        "model = TSNE(n_components=2, random_state=0)\n",
        "np.set_printoptions(suppress=True)\n",
        " \n",
        "Y=model.fit_transform(X)\n",
        " \n",
        " \n",
        "plt.scatter(Y[:, 0], Y[:, 1], c=assigned_clusters, s=290,alpha=.5)\n",
        " \n",
        "final_dict={}\n",
        "for j in range(len(sentences)):    \n",
        "   plt.annotate(assigned_clusters[j],xy=(Y[j][0], Y[j][1]),xytext=(0,0),textcoords='offset points')\n",
        "   if assigned_clusters[j] not in final_dict:\n",
        "     final_dict[assigned_clusters[j]]=[]\n",
        "   final_dict[assigned_clusters[j]].append(titles[j])\n",
        "   #print (\"%s %s\" % (assigned_clusters[j],  titles[j]))\n",
        "for key in final_dict.keys():\n",
        "  print(final_dict[key])\n",
        " \n",
        "\n",
        "plt.show()\n",
        "\n"
      ],
      "execution_count": 0,
      "outputs": [
        {
          "output_type": "error",
          "ename": "KeyboardInterrupt",
          "evalue": "ignored",
          "traceback": [
            "\u001b[0;31m---------------------------------------------------------------------------\u001b[0m",
            "\u001b[0;31mKeyboardInterrupt\u001b[0m                         Traceback (most recent call last)",
            "\u001b[0;32m<ipython-input-52-1e75d85ebabf>\u001b[0m in \u001b[0;36m<module>\u001b[0;34m()\u001b[0m\n\u001b[1;32m      1\u001b[0m \u001b[0mNUM_CLUSTERS\u001b[0m\u001b[0;34m=\u001b[0m\u001b[0;36m10\u001b[0m\u001b[0;34m\u001b[0m\u001b[0;34m\u001b[0m\u001b[0m\n\u001b[1;32m      2\u001b[0m \u001b[0mkclusterer\u001b[0m \u001b[0;34m=\u001b[0m \u001b[0mKMeansClusterer\u001b[0m\u001b[0;34m(\u001b[0m\u001b[0mNUM_CLUSTERS\u001b[0m\u001b[0;34m,\u001b[0m \u001b[0mdistance\u001b[0m\u001b[0;34m=\u001b[0m\u001b[0mnltk\u001b[0m\u001b[0;34m.\u001b[0m\u001b[0mcluster\u001b[0m\u001b[0;34m.\u001b[0m\u001b[0mutil\u001b[0m\u001b[0;34m.\u001b[0m\u001b[0mcosine_distance\u001b[0m\u001b[0;34m,\u001b[0m \u001b[0mrepeats\u001b[0m\u001b[0;34m=\u001b[0m\u001b[0;36m25\u001b[0m\u001b[0;34m)\u001b[0m\u001b[0;34m\u001b[0m\u001b[0;34m\u001b[0m\u001b[0m\n\u001b[0;32m----> 3\u001b[0;31m \u001b[0massigned_clusters\u001b[0m \u001b[0;34m=\u001b[0m \u001b[0mkclusterer\u001b[0m\u001b[0;34m.\u001b[0m\u001b[0mcluster\u001b[0m\u001b[0;34m(\u001b[0m\u001b[0mX\u001b[0m\u001b[0;34m,\u001b[0m \u001b[0massign_clusters\u001b[0m\u001b[0;34m=\u001b[0m\u001b[0;32mTrue\u001b[0m\u001b[0;34m)\u001b[0m\u001b[0;34m\u001b[0m\u001b[0;34m\u001b[0m\u001b[0m\n\u001b[0m\u001b[1;32m      4\u001b[0m \u001b[0mprint\u001b[0m \u001b[0;34m(\u001b[0m\u001b[0massigned_clusters\u001b[0m\u001b[0;34m)\u001b[0m\u001b[0;34m\u001b[0m\u001b[0;34m\u001b[0m\u001b[0m\n\u001b[1;32m      5\u001b[0m \u001b[0;34m\u001b[0m\u001b[0m\n",
            "\u001b[0;32m/usr/local/lib/python3.6/dist-packages/nltk/cluster/util.py\u001b[0m in \u001b[0;36mcluster\u001b[0;34m(self, vectors, assign_clusters, trace)\u001b[0m\n\u001b[1;32m     59\u001b[0m \u001b[0;34m\u001b[0m\u001b[0m\n\u001b[1;32m     60\u001b[0m         \u001b[0;31m# call abstract method to cluster the vectors\u001b[0m\u001b[0;34m\u001b[0m\u001b[0;34m\u001b[0m\u001b[0;34m\u001b[0m\u001b[0m\n\u001b[0;32m---> 61\u001b[0;31m         \u001b[0mself\u001b[0m\u001b[0;34m.\u001b[0m\u001b[0mcluster_vectorspace\u001b[0m\u001b[0;34m(\u001b[0m\u001b[0mvectors\u001b[0m\u001b[0;34m,\u001b[0m \u001b[0mtrace\u001b[0m\u001b[0;34m)\u001b[0m\u001b[0;34m\u001b[0m\u001b[0;34m\u001b[0m\u001b[0m\n\u001b[0m\u001b[1;32m     62\u001b[0m \u001b[0;34m\u001b[0m\u001b[0m\n\u001b[1;32m     63\u001b[0m         \u001b[0;31m# assign the vectors to clusters\u001b[0m\u001b[0;34m\u001b[0m\u001b[0;34m\u001b[0m\u001b[0;34m\u001b[0m\u001b[0m\n",
            "\u001b[0;32m/usr/local/lib/python3.6/dist-packages/nltk/cluster/kmeans.py\u001b[0m in \u001b[0;36mcluster_vectorspace\u001b[0;34m(self, vectors, trace)\u001b[0m\n\u001b[1;32m     83\u001b[0m             \u001b[0;32mif\u001b[0m \u001b[0;32mnot\u001b[0m \u001b[0mself\u001b[0m\u001b[0;34m.\u001b[0m\u001b[0m_means\u001b[0m \u001b[0;32mor\u001b[0m \u001b[0mtrial\u001b[0m \u001b[0;34m>\u001b[0m \u001b[0;36m1\u001b[0m\u001b[0;34m:\u001b[0m\u001b[0;34m\u001b[0m\u001b[0;34m\u001b[0m\u001b[0m\n\u001b[1;32m     84\u001b[0m                 \u001b[0mself\u001b[0m\u001b[0;34m.\u001b[0m\u001b[0m_means\u001b[0m \u001b[0;34m=\u001b[0m \u001b[0mself\u001b[0m\u001b[0;34m.\u001b[0m\u001b[0m_rng\u001b[0m\u001b[0;34m.\u001b[0m\u001b[0msample\u001b[0m\u001b[0;34m(\u001b[0m\u001b[0mlist\u001b[0m\u001b[0;34m(\u001b[0m\u001b[0mvectors\u001b[0m\u001b[0;34m)\u001b[0m\u001b[0;34m,\u001b[0m \u001b[0mself\u001b[0m\u001b[0;34m.\u001b[0m\u001b[0m_num_means\u001b[0m\u001b[0;34m)\u001b[0m\u001b[0;34m\u001b[0m\u001b[0;34m\u001b[0m\u001b[0m\n\u001b[0;32m---> 85\u001b[0;31m             \u001b[0mself\u001b[0m\u001b[0;34m.\u001b[0m\u001b[0m_cluster_vectorspace\u001b[0m\u001b[0;34m(\u001b[0m\u001b[0mvectors\u001b[0m\u001b[0;34m,\u001b[0m \u001b[0mtrace\u001b[0m\u001b[0;34m)\u001b[0m\u001b[0;34m\u001b[0m\u001b[0;34m\u001b[0m\u001b[0m\n\u001b[0m\u001b[1;32m     86\u001b[0m             \u001b[0mmeanss\u001b[0m\u001b[0;34m.\u001b[0m\u001b[0mappend\u001b[0m\u001b[0;34m(\u001b[0m\u001b[0mself\u001b[0m\u001b[0;34m.\u001b[0m\u001b[0m_means\u001b[0m\u001b[0;34m)\u001b[0m\u001b[0;34m\u001b[0m\u001b[0;34m\u001b[0m\u001b[0m\n\u001b[1;32m     87\u001b[0m \u001b[0;34m\u001b[0m\u001b[0m\n",
            "\u001b[0;32m/usr/local/lib/python3.6/dist-packages/nltk/cluster/kmeans.py\u001b[0m in \u001b[0;36m_cluster_vectorspace\u001b[0;34m(self, vectors, trace)\u001b[0m\n\u001b[1;32m    114\u001b[0m                 \u001b[0mclusters\u001b[0m \u001b[0;34m=\u001b[0m \u001b[0;34m[\u001b[0m\u001b[0;34m[\u001b[0m\u001b[0;34m]\u001b[0m \u001b[0;32mfor\u001b[0m \u001b[0mm\u001b[0m \u001b[0;32min\u001b[0m \u001b[0mrange\u001b[0m\u001b[0;34m(\u001b[0m\u001b[0mself\u001b[0m\u001b[0;34m.\u001b[0m\u001b[0m_num_means\u001b[0m\u001b[0;34m)\u001b[0m\u001b[0;34m]\u001b[0m\u001b[0;34m\u001b[0m\u001b[0;34m\u001b[0m\u001b[0m\n\u001b[1;32m    115\u001b[0m                 \u001b[0;32mfor\u001b[0m \u001b[0mvector\u001b[0m \u001b[0;32min\u001b[0m \u001b[0mvectors\u001b[0m\u001b[0;34m:\u001b[0m\u001b[0;34m\u001b[0m\u001b[0;34m\u001b[0m\u001b[0m\n\u001b[0;32m--> 116\u001b[0;31m                     \u001b[0mindex\u001b[0m \u001b[0;34m=\u001b[0m \u001b[0mself\u001b[0m\u001b[0;34m.\u001b[0m\u001b[0mclassify_vectorspace\u001b[0m\u001b[0;34m(\u001b[0m\u001b[0mvector\u001b[0m\u001b[0;34m)\u001b[0m\u001b[0;34m\u001b[0m\u001b[0;34m\u001b[0m\u001b[0m\n\u001b[0m\u001b[1;32m    117\u001b[0m                     \u001b[0mclusters\u001b[0m\u001b[0;34m[\u001b[0m\u001b[0mindex\u001b[0m\u001b[0;34m]\u001b[0m\u001b[0;34m.\u001b[0m\u001b[0mappend\u001b[0m\u001b[0;34m(\u001b[0m\u001b[0mvector\u001b[0m\u001b[0;34m)\u001b[0m\u001b[0;34m\u001b[0m\u001b[0;34m\u001b[0m\u001b[0m\n\u001b[1;32m    118\u001b[0m \u001b[0;34m\u001b[0m\u001b[0m\n",
            "\u001b[0;32m/usr/local/lib/python3.6/dist-packages/nltk/cluster/kmeans.py\u001b[0m in \u001b[0;36mclassify_vectorspace\u001b[0;34m(self, vector)\u001b[0m\n\u001b[1;32m    138\u001b[0m         \u001b[0;32mfor\u001b[0m \u001b[0mindex\u001b[0m \u001b[0;32min\u001b[0m \u001b[0mrange\u001b[0m\u001b[0;34m(\u001b[0m\u001b[0mlen\u001b[0m\u001b[0;34m(\u001b[0m\u001b[0mself\u001b[0m\u001b[0;34m.\u001b[0m\u001b[0m_means\u001b[0m\u001b[0;34m)\u001b[0m\u001b[0;34m)\u001b[0m\u001b[0;34m:\u001b[0m\u001b[0;34m\u001b[0m\u001b[0;34m\u001b[0m\u001b[0m\n\u001b[1;32m    139\u001b[0m             \u001b[0mmean\u001b[0m \u001b[0;34m=\u001b[0m \u001b[0mself\u001b[0m\u001b[0;34m.\u001b[0m\u001b[0m_means\u001b[0m\u001b[0;34m[\u001b[0m\u001b[0mindex\u001b[0m\u001b[0;34m]\u001b[0m\u001b[0;34m\u001b[0m\u001b[0;34m\u001b[0m\u001b[0m\n\u001b[0;32m--> 140\u001b[0;31m             \u001b[0mdist\u001b[0m \u001b[0;34m=\u001b[0m \u001b[0mself\u001b[0m\u001b[0;34m.\u001b[0m\u001b[0m_distance\u001b[0m\u001b[0;34m(\u001b[0m\u001b[0mvector\u001b[0m\u001b[0;34m,\u001b[0m \u001b[0mmean\u001b[0m\u001b[0;34m)\u001b[0m\u001b[0;34m\u001b[0m\u001b[0;34m\u001b[0m\u001b[0m\n\u001b[0m\u001b[1;32m    141\u001b[0m             \u001b[0;32mif\u001b[0m \u001b[0mbest_distance\u001b[0m \u001b[0;32mis\u001b[0m \u001b[0;32mNone\u001b[0m \u001b[0;32mor\u001b[0m \u001b[0mdist\u001b[0m \u001b[0;34m<\u001b[0m \u001b[0mbest_distance\u001b[0m\u001b[0;34m:\u001b[0m\u001b[0;34m\u001b[0m\u001b[0;34m\u001b[0m\u001b[0m\n\u001b[1;32m    142\u001b[0m                 \u001b[0mbest_index\u001b[0m\u001b[0;34m,\u001b[0m \u001b[0mbest_distance\u001b[0m \u001b[0;34m=\u001b[0m \u001b[0mindex\u001b[0m\u001b[0;34m,\u001b[0m \u001b[0mdist\u001b[0m\u001b[0;34m\u001b[0m\u001b[0;34m\u001b[0m\u001b[0m\n",
            "\u001b[0;32m/usr/local/lib/python3.6/dist-packages/nltk/cluster/util.py\u001b[0m in \u001b[0;36mcosine_distance\u001b[0;34m(u, v)\u001b[0m\n\u001b[1;32m    131\u001b[0m     \"\"\"\n\u001b[1;32m    132\u001b[0m     return 1 - (numpy.dot(u, v) / (\n\u001b[0;32m--> 133\u001b[0;31m                 sqrt(numpy.dot(u, u)) * sqrt(numpy.dot(v, v))))\n\u001b[0m\u001b[1;32m    134\u001b[0m \u001b[0;34m\u001b[0m\u001b[0m\n\u001b[1;32m    135\u001b[0m \u001b[0;34m\u001b[0m\u001b[0m\n",
            "\u001b[0;31mKeyboardInterrupt\u001b[0m: "
          ]
        }
      ]
    },
    {
      "cell_type": "markdown",
      "metadata": {
        "id": "5oP6_1pYvEXl",
        "colab_type": "text"
      },
      "source": [
        "#Project Ended"
      ]
    },
    {
      "cell_type": "code",
      "metadata": {
        "id": "2P8U5CKxvkR6",
        "colab_type": "code",
        "outputId": "4239abb1-fceb-4dae-dec7-95388fc78531",
        "colab": {
          "base_uri": "https://localhost:8080/",
          "height": 442
        }
      },
      "source": [
        "import pandas as pd\n",
        "import gensim.downloader as api\n",
        "url = 'https://raw.githubusercontent.com/Pratikmehta1729/walkover/master/top_10.csv'\n",
        "df = pd.read_csv('final_top_100.csv')\n",
        "l=[]\n",
        "titles=[]\n",
        "x=df.text.tolist()\n",
        "y=df.title.tolist()\n",
        "for title in y:\n",
        "  titles.append(title)\n",
        "for item in x:\n",
        "    l.append(item.split())\n",
        "#print(len(l))\n",
        "# print(l[0])\n",
        "\n",
        "\n",
        "# Even though using word2vec internally it is using that same process\n",
        "\n",
        "from gensim.models import Word2Vec\n",
        "  \n",
        "from nltk.cluster import KMeansClusterer\n",
        "import nltk\n",
        "import numpy as np \n",
        "  \n",
        "from sklearn import cluster\n",
        "from sklearn import metrics\n",
        "  \n",
        "# training data\n",
        "  \n",
        "# sentences = [['amazon','delivery', 'shipping'],\n",
        "#             ['social', 'twitter',  'feed'],\n",
        "#             ['photo', 'feed', 'instagram'],\n",
        "#             ['shopping', 'delivery', 'flipkart']]\n",
        "sentences = l  \n",
        "  \n",
        " \n",
        "model = api.load(\"word2vec-google-news-300\")\n",
        "  \n",
        "def sent_vectorizer(sent, model):\n",
        "    sent_vec =[]\n",
        "    numw = 0\n",
        "    for w in sent:\n",
        "        try:\n",
        "            if numw == 0:\n",
        "                sent_vec = model[w]\n",
        "            else:\n",
        "                sent_vec = np.add(sent_vec, model[w])\n",
        "            numw+=1\n",
        "        except:\n",
        "            pass\n",
        "     \n",
        "    return np.asarray(sent_vec) / numw\n",
        "  \n",
        "  \n",
        "X=[]\n",
        "for sentence in sentences:\n",
        "    X.append(sent_vectorizer(sentence, model))   \n",
        " \n",
        "print (\"========================\")\n",
        " \n",
        " \n",
        "  \n",
        " \n",
        "# note with some version you would need use this (without wv) \n",
        "#  model[model.vocab] \n",
        "print (model[model.wv.vocab])\n",
        " \n",
        " \n",
        "  \n",
        " \n",
        "print (model.similarity('post', 'book'))\n",
        "print (model.most_similar(positive=['machine'], negative=[], topn=2))\n",
        "  \n",
        "  \n",
        " \n",
        "  \n",
        "  \n",
        "NUM_CLUSTERS=6\n",
        "kclusterer = KMeansClusterer(NUM_CLUSTERS, distance=nltk.cluster.util.cosine_distance, repeats=25)\n",
        "assigned_clusters = kclusterer.cluster(X, assign_clusters=True)\n",
        "print (assigned_clusters)\n",
        "  \n",
        "  \n",
        "  \n",
        "for index, sentence in enumerate(sentences):    \n",
        "    print (str(assigned_clusters[index]) + \":\" + str(sentence))\n",
        " \n",
        "     \n",
        "     \n",
        "     \n",
        "kmeans = cluster.KMeans(n_clusters=NUM_CLUSTERS)\n",
        "kmeans.fit(X)\n",
        "  \n",
        "labels = kmeans.labels_\n",
        "centroids = kmeans.cluster_centers_\n",
        "  \n",
        "print (\"Cluster id labels for inputted data\")\n",
        "print (labels)\n",
        "print (\"Centroids data\")\n",
        "print (centroids)\n",
        "  \n",
        "print (\"Score (Opposite of the value of X on the K-means objective which is Sum of distances of samples to their closest cluster center):\")\n",
        "print (kmeans.score(X))\n",
        "  \n",
        "silhouette_score = metrics.silhouette_score(X, labels, metric='euclidean')\n",
        "  \n",
        "print (\"Silhouette_score: \")\n",
        "print (silhouette_score)\n",
        " \n",
        " \n",
        "import matplotlib.pyplot as plt\n",
        " \n",
        "from sklearn.manifold import TSNE\n",
        " \n",
        "model = TSNE(n_components=2, random_state=0)\n",
        "np.set_printoptions(suppress=True)\n",
        " \n",
        "Y=model.fit_transform(X)\n",
        " \n",
        " l\n",
        "plt.scatter(Y[:, 0], Y[:, 1], c=assigned_clusters, s=290,alpha=.5)\n",
        " \n",
        "final_dict={}\n",
        "for j in range(len(sentences)):    \n",
        "   plt.annotate(assigned_clusters[j],xy=(Y[j][0], Y[j][1]),xytext=(0,0),textcoords='offset points')\n",
        "   if assigned_clusters[j] not in final_dict:\n",
        "     final_dict[assigned_clusters[j]]=[]\n",
        "   final_dict[assigned_clusters[j]].append(titles[j])\n",
        "   print (\"%s %s\" % (assigned_clusters[j],  titles[j]))\n",
        "for key in final_dict.keys():\n",
        "  print(final_dict[key])\n",
        " \n",
        " \n",
        "plt.show()"
      ],
      "execution_count": 0,
      "outputs": [
        {
          "output_type": "error",
          "ename": "FileNotFoundError",
          "evalue": "ignored",
          "traceback": [
            "\u001b[0;31m---------------------------------------------------------------------------\u001b[0m",
            "\u001b[0;31mFileNotFoundError\u001b[0m                         Traceback (most recent call last)",
            "\u001b[0;32m<ipython-input-1-06983f4b2459>\u001b[0m in \u001b[0;36m<module>\u001b[0;34m()\u001b[0m\n\u001b[1;32m      2\u001b[0m \u001b[0;32mimport\u001b[0m \u001b[0mgensim\u001b[0m\u001b[0;34m.\u001b[0m\u001b[0mdownloader\u001b[0m \u001b[0;32mas\u001b[0m \u001b[0mapi\u001b[0m\u001b[0;34m\u001b[0m\u001b[0;34m\u001b[0m\u001b[0m\n\u001b[1;32m      3\u001b[0m \u001b[0murl\u001b[0m \u001b[0;34m=\u001b[0m \u001b[0;34m'https://raw.githubusercontent.com/Pratikmehta1729/walkover/master/top_10.csv'\u001b[0m\u001b[0;34m\u001b[0m\u001b[0;34m\u001b[0m\u001b[0m\n\u001b[0;32m----> 4\u001b[0;31m \u001b[0mdf\u001b[0m \u001b[0;34m=\u001b[0m \u001b[0mpd\u001b[0m\u001b[0;34m.\u001b[0m\u001b[0mread_csv\u001b[0m\u001b[0;34m(\u001b[0m\u001b[0;34m'final_top_100.csv'\u001b[0m\u001b[0;34m)\u001b[0m\u001b[0;34m\u001b[0m\u001b[0;34m\u001b[0m\u001b[0m\n\u001b[0m\u001b[1;32m      5\u001b[0m \u001b[0ml\u001b[0m\u001b[0;34m=\u001b[0m\u001b[0;34m[\u001b[0m\u001b[0;34m]\u001b[0m\u001b[0;34m\u001b[0m\u001b[0;34m\u001b[0m\u001b[0m\n\u001b[1;32m      6\u001b[0m \u001b[0mtitles\u001b[0m\u001b[0;34m=\u001b[0m\u001b[0;34m[\u001b[0m\u001b[0;34m]\u001b[0m\u001b[0;34m\u001b[0m\u001b[0;34m\u001b[0m\u001b[0m\n",
            "\u001b[0;32m/usr/local/lib/python3.6/dist-packages/pandas/io/parsers.py\u001b[0m in \u001b[0;36mparser_f\u001b[0;34m(filepath_or_buffer, sep, delimiter, header, names, index_col, usecols, squeeze, prefix, mangle_dupe_cols, dtype, engine, converters, true_values, false_values, skipinitialspace, skiprows, skipfooter, nrows, na_values, keep_default_na, na_filter, verbose, skip_blank_lines, parse_dates, infer_datetime_format, keep_date_col, date_parser, dayfirst, cache_dates, iterator, chunksize, compression, thousands, decimal, lineterminator, quotechar, quoting, doublequote, escapechar, comment, encoding, dialect, error_bad_lines, warn_bad_lines, delim_whitespace, low_memory, memory_map, float_precision)\u001b[0m\n\u001b[1;32m    674\u001b[0m         )\n\u001b[1;32m    675\u001b[0m \u001b[0;34m\u001b[0m\u001b[0m\n\u001b[0;32m--> 676\u001b[0;31m         \u001b[0;32mreturn\u001b[0m \u001b[0m_read\u001b[0m\u001b[0;34m(\u001b[0m\u001b[0mfilepath_or_buffer\u001b[0m\u001b[0;34m,\u001b[0m \u001b[0mkwds\u001b[0m\u001b[0;34m)\u001b[0m\u001b[0;34m\u001b[0m\u001b[0;34m\u001b[0m\u001b[0m\n\u001b[0m\u001b[1;32m    677\u001b[0m \u001b[0;34m\u001b[0m\u001b[0m\n\u001b[1;32m    678\u001b[0m     \u001b[0mparser_f\u001b[0m\u001b[0;34m.\u001b[0m\u001b[0m__name__\u001b[0m \u001b[0;34m=\u001b[0m \u001b[0mname\u001b[0m\u001b[0;34m\u001b[0m\u001b[0;34m\u001b[0m\u001b[0m\n",
            "\u001b[0;32m/usr/local/lib/python3.6/dist-packages/pandas/io/parsers.py\u001b[0m in \u001b[0;36m_read\u001b[0;34m(filepath_or_buffer, kwds)\u001b[0m\n\u001b[1;32m    446\u001b[0m \u001b[0;34m\u001b[0m\u001b[0m\n\u001b[1;32m    447\u001b[0m     \u001b[0;31m# Create the parser.\u001b[0m\u001b[0;34m\u001b[0m\u001b[0;34m\u001b[0m\u001b[0;34m\u001b[0m\u001b[0m\n\u001b[0;32m--> 448\u001b[0;31m     \u001b[0mparser\u001b[0m \u001b[0;34m=\u001b[0m \u001b[0mTextFileReader\u001b[0m\u001b[0;34m(\u001b[0m\u001b[0mfp_or_buf\u001b[0m\u001b[0;34m,\u001b[0m \u001b[0;34m**\u001b[0m\u001b[0mkwds\u001b[0m\u001b[0;34m)\u001b[0m\u001b[0;34m\u001b[0m\u001b[0;34m\u001b[0m\u001b[0m\n\u001b[0m\u001b[1;32m    449\u001b[0m \u001b[0;34m\u001b[0m\u001b[0m\n\u001b[1;32m    450\u001b[0m     \u001b[0;32mif\u001b[0m \u001b[0mchunksize\u001b[0m \u001b[0;32mor\u001b[0m \u001b[0miterator\u001b[0m\u001b[0;34m:\u001b[0m\u001b[0;34m\u001b[0m\u001b[0;34m\u001b[0m\u001b[0m\n",
            "\u001b[0;32m/usr/local/lib/python3.6/dist-packages/pandas/io/parsers.py\u001b[0m in \u001b[0;36m__init__\u001b[0;34m(self, f, engine, **kwds)\u001b[0m\n\u001b[1;32m    878\u001b[0m             \u001b[0mself\u001b[0m\u001b[0;34m.\u001b[0m\u001b[0moptions\u001b[0m\u001b[0;34m[\u001b[0m\u001b[0;34m\"has_index_names\"\u001b[0m\u001b[0;34m]\u001b[0m \u001b[0;34m=\u001b[0m \u001b[0mkwds\u001b[0m\u001b[0;34m[\u001b[0m\u001b[0;34m\"has_index_names\"\u001b[0m\u001b[0;34m]\u001b[0m\u001b[0;34m\u001b[0m\u001b[0;34m\u001b[0m\u001b[0m\n\u001b[1;32m    879\u001b[0m \u001b[0;34m\u001b[0m\u001b[0m\n\u001b[0;32m--> 880\u001b[0;31m         \u001b[0mself\u001b[0m\u001b[0;34m.\u001b[0m\u001b[0m_make_engine\u001b[0m\u001b[0;34m(\u001b[0m\u001b[0mself\u001b[0m\u001b[0;34m.\u001b[0m\u001b[0mengine\u001b[0m\u001b[0;34m)\u001b[0m\u001b[0;34m\u001b[0m\u001b[0;34m\u001b[0m\u001b[0m\n\u001b[0m\u001b[1;32m    881\u001b[0m \u001b[0;34m\u001b[0m\u001b[0m\n\u001b[1;32m    882\u001b[0m     \u001b[0;32mdef\u001b[0m \u001b[0mclose\u001b[0m\u001b[0;34m(\u001b[0m\u001b[0mself\u001b[0m\u001b[0;34m)\u001b[0m\u001b[0;34m:\u001b[0m\u001b[0;34m\u001b[0m\u001b[0;34m\u001b[0m\u001b[0m\n",
            "\u001b[0;32m/usr/local/lib/python3.6/dist-packages/pandas/io/parsers.py\u001b[0m in \u001b[0;36m_make_engine\u001b[0;34m(self, engine)\u001b[0m\n\u001b[1;32m   1112\u001b[0m     \u001b[0;32mdef\u001b[0m \u001b[0m_make_engine\u001b[0m\u001b[0;34m(\u001b[0m\u001b[0mself\u001b[0m\u001b[0;34m,\u001b[0m \u001b[0mengine\u001b[0m\u001b[0;34m=\u001b[0m\u001b[0;34m\"c\"\u001b[0m\u001b[0;34m)\u001b[0m\u001b[0;34m:\u001b[0m\u001b[0;34m\u001b[0m\u001b[0;34m\u001b[0m\u001b[0m\n\u001b[1;32m   1113\u001b[0m         \u001b[0;32mif\u001b[0m \u001b[0mengine\u001b[0m \u001b[0;34m==\u001b[0m \u001b[0;34m\"c\"\u001b[0m\u001b[0;34m:\u001b[0m\u001b[0;34m\u001b[0m\u001b[0;34m\u001b[0m\u001b[0m\n\u001b[0;32m-> 1114\u001b[0;31m             \u001b[0mself\u001b[0m\u001b[0;34m.\u001b[0m\u001b[0m_engine\u001b[0m \u001b[0;34m=\u001b[0m \u001b[0mCParserWrapper\u001b[0m\u001b[0;34m(\u001b[0m\u001b[0mself\u001b[0m\u001b[0;34m.\u001b[0m\u001b[0mf\u001b[0m\u001b[0;34m,\u001b[0m \u001b[0;34m**\u001b[0m\u001b[0mself\u001b[0m\u001b[0;34m.\u001b[0m\u001b[0moptions\u001b[0m\u001b[0;34m)\u001b[0m\u001b[0;34m\u001b[0m\u001b[0;34m\u001b[0m\u001b[0m\n\u001b[0m\u001b[1;32m   1115\u001b[0m         \u001b[0;32melse\u001b[0m\u001b[0;34m:\u001b[0m\u001b[0;34m\u001b[0m\u001b[0;34m\u001b[0m\u001b[0m\n\u001b[1;32m   1116\u001b[0m             \u001b[0;32mif\u001b[0m \u001b[0mengine\u001b[0m \u001b[0;34m==\u001b[0m \u001b[0;34m\"python\"\u001b[0m\u001b[0;34m:\u001b[0m\u001b[0;34m\u001b[0m\u001b[0;34m\u001b[0m\u001b[0m\n",
            "\u001b[0;32m/usr/local/lib/python3.6/dist-packages/pandas/io/parsers.py\u001b[0m in \u001b[0;36m__init__\u001b[0;34m(self, src, **kwds)\u001b[0m\n\u001b[1;32m   1889\u001b[0m         \u001b[0mkwds\u001b[0m\u001b[0;34m[\u001b[0m\u001b[0;34m\"usecols\"\u001b[0m\u001b[0;34m]\u001b[0m \u001b[0;34m=\u001b[0m \u001b[0mself\u001b[0m\u001b[0;34m.\u001b[0m\u001b[0musecols\u001b[0m\u001b[0;34m\u001b[0m\u001b[0;34m\u001b[0m\u001b[0m\n\u001b[1;32m   1890\u001b[0m \u001b[0;34m\u001b[0m\u001b[0m\n\u001b[0;32m-> 1891\u001b[0;31m         \u001b[0mself\u001b[0m\u001b[0;34m.\u001b[0m\u001b[0m_reader\u001b[0m \u001b[0;34m=\u001b[0m \u001b[0mparsers\u001b[0m\u001b[0;34m.\u001b[0m\u001b[0mTextReader\u001b[0m\u001b[0;34m(\u001b[0m\u001b[0msrc\u001b[0m\u001b[0;34m,\u001b[0m \u001b[0;34m**\u001b[0m\u001b[0mkwds\u001b[0m\u001b[0;34m)\u001b[0m\u001b[0;34m\u001b[0m\u001b[0;34m\u001b[0m\u001b[0m\n\u001b[0m\u001b[1;32m   1892\u001b[0m         \u001b[0mself\u001b[0m\u001b[0;34m.\u001b[0m\u001b[0munnamed_cols\u001b[0m \u001b[0;34m=\u001b[0m \u001b[0mself\u001b[0m\u001b[0;34m.\u001b[0m\u001b[0m_reader\u001b[0m\u001b[0;34m.\u001b[0m\u001b[0munnamed_cols\u001b[0m\u001b[0;34m\u001b[0m\u001b[0;34m\u001b[0m\u001b[0m\n\u001b[1;32m   1893\u001b[0m \u001b[0;34m\u001b[0m\u001b[0m\n",
            "\u001b[0;32mpandas/_libs/parsers.pyx\u001b[0m in \u001b[0;36mpandas._libs.parsers.TextReader.__cinit__\u001b[0;34m()\u001b[0m\n",
            "\u001b[0;32mpandas/_libs/parsers.pyx\u001b[0m in \u001b[0;36mpandas._libs.parsers.TextReader._setup_parser_source\u001b[0;34m()\u001b[0m\n",
            "\u001b[0;31mFileNotFoundError\u001b[0m: [Errno 2] File final_top_100.csv does not exist: 'final_top_100.csv'"
          ]
        }
      ]
    },
    {
      "cell_type": "code",
      "metadata": {
        "id": "6g8XmC9jY6CK",
        "colab_type": "code",
        "colab": {}
      },
      "source": [
        ""
      ],
      "execution_count": 0,
      "outputs": []
    },
    {
      "cell_type": "code",
      "metadata": {
        "id": "XyvH5HVELs4-",
        "colab_type": "code",
        "outputId": "642b93b0-fe9b-4659-8fbb-d49dd2ed7187",
        "colab": {
          "base_uri": "https://localhost:8080/",
          "height": 238
        }
      },
      "source": [
        "# %config NotebookApp.iopub_data_rate_limit=10000000000\n",
        "%config \n",
        "#  set NotebookApp.iopub_data_rate_limit=10000000000\n",
        "# print(l)"
      ],
      "execution_count": 0,
      "outputs": [
        {
          "output_type": "stream",
          "text": [
            "Available objects for config:\n",
            "     Shell\n",
            "     HistoryManager\n",
            "     PrefilterManager\n",
            "     IPCompleter\n",
            "     DisplayFormatter\n",
            "     MagicsManager\n",
            "     ScriptMagics\n",
            "     AliasManager\n",
            "     IPKernelApp\n",
            "     InlineBackend\n",
            "     StoreMagics\n",
            "     StoreMagics\n"
          ],
          "name": "stdout"
        }
      ]
    }
  ]
}